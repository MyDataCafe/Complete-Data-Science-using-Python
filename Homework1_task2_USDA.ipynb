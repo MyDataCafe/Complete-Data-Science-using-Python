{
 "cells": [
  {
   "cell_type": "markdown",
   "metadata": {},
   "source": [
    "# United States Department of Agriculture "
   ]
  },
  {
   "cell_type": "markdown",
   "metadata": {},
   "source": [
    "The file is taken from this website--\n",
    "https://ndb.nal.usda.gov/ndb/      --------> open this website and have alook once.\n",
    "Feel free to add new spaces by pressing enter or new lines by going to insert button above. Some questions will reuire you to google.. Some questions are intentionally outside of the topics covered."
   ]
  },
  {
   "cell_type": "code",
   "execution_count": 2,
   "metadata": {},
   "outputs": [],
   "source": [
    "#All codes are available at https://github.com/MyDataCafe/\n",
    "#All Class Videos are at https://www.youtube.com/mydatacafe\n",
    "#We are on Facebook https://www.facebook.com/mydatacafe/\n",
    "#We are on LinkedIn https://www.linkedin.com/company/mydatacafe/"
   ]
  },
  {
   "cell_type": "code",
   "execution_count": 3,
   "metadata": {},
   "outputs": [],
   "source": [
    "#Week1\n",
    "#Assignment1\n",
    "##read the USDA.csv file into Python\n",
    "#How many Rows and coluns are in the dataframe?? (hint use df.shape function)"
   ]
  },
  {
   "cell_type": "code",
   "execution_count": 4,
   "metadata": {},
   "outputs": [],
   "source": [
    "#get the datatype of each column "
   ]
  },
  {
   "cell_type": "code",
   "execution_count": 5,
   "metadata": {},
   "outputs": [],
   "source": [
    "#get the high level statistical information of the columns\n",
    "#study the Sodium variables particulary"
   ]
  },
  {
   "cell_type": "code",
   "execution_count": 6,
   "metadata": {},
   "outputs": [],
   "source": [
    "#get the number of missing values in each column"
   ]
  },
  {
   "cell_type": "code",
   "execution_count": 7,
   "metadata": {},
   "outputs": [],
   "source": [
    "#which food (description column gives the food) corresponds to the maximum level of Sodium"
   ]
  },
  {
   "cell_type": "code",
   "execution_count": 8,
   "metadata": {},
   "outputs": [],
   "source": [
    "#create  anew dataframe called High_sodium that has >10000 Sodium content"
   ]
  },
  {
   "cell_type": "code",
   "execution_count": 9,
   "metadata": {},
   "outputs": [],
   "source": [
    "#how many food have High Sodium. print all their descriptions"
   ]
  },
  {
   "cell_type": "code",
   "execution_count": 10,
   "metadata": {},
   "outputs": [],
   "source": [
    "#CAVIAR has very high sodium content. fidn which row has the food CAVIAR.\n",
    "#Also find how much sodium does it have"
   ]
  },
  {
   "cell_type": "code",
   "execution_count": 11,
   "metadata": {},
   "outputs": [],
   "source": [
    "#find mean of Sodium and SD of Sodium in original df"
   ]
  },
  {
   "cell_type": "code",
   "execution_count": 12,
   "metadata": {},
   "outputs": [],
   "source": [
    "#plot a scatter of Protein vs Totalfat . add red color to the points"
   ]
  },
  {
   "cell_type": "code",
   "execution_count": 13,
   "metadata": {},
   "outputs": [],
   "source": [
    "#plot a histogram of Carbohydrate levels.\n",
    "#press shift tab to ee the help page\n",
    "#play with the bins parameter to make a good histomgram"
   ]
  },
  {
   "cell_type": "code",
   "execution_count": 14,
   "metadata": {},
   "outputs": [],
   "source": [
    "#create a normal boxplot of Sugar. What do you observe"
   ]
  },
  {
   "cell_type": "code",
   "execution_count": 15,
   "metadata": {},
   "outputs": [],
   "source": [
    "#add a new variable/column called high sodium and make ot 1 of its\n",
    "#> avergae Sodium and =0 if its<=mean(Sodium)."
   ]
  },
  {
   "cell_type": "code",
   "execution_count": 16,
   "metadata": {},
   "outputs": [],
   "source": [
    "#similarly for high Protein , High TotalFat & high carbs"
   ]
  },
  {
   "cell_type": "code",
   "execution_count": 17,
   "metadata": {},
   "outputs": [],
   "source": [
    "#find how many foods have high Sodium levels using the new variable that you createe"
   ]
  },
  {
   "cell_type": "code",
   "execution_count": 18,
   "metadata": {},
   "outputs": [],
   "source": [
    "#find how mnay have both high sodium and high toatl fat (hint use pd.crosstab)\n",
    "#Compute the average amount of iron for both high and low protein foods\n",
    "#hint use groupby"
   ]
  },
  {
   "cell_type": "code",
   "execution_count": 19,
   "metadata": {},
   "outputs": [],
   "source": [
    "#Do foods with high carbs have low Vitamic C. How will you infer this..\n",
    "#hint use groupby and describe together"
   ]
  },
  {
   "cell_type": "code",
   "execution_count": 20,
   "metadata": {},
   "outputs": [],
   "source": [
    "#stay healthy guys... eat the right food..."
   ]
  },
  {
   "cell_type": "code",
   "execution_count": 1,
   "metadata": {},
   "outputs": [],
   "source": [
    "#All codes are available at https://github.com/MyDataCafe/\n",
    "#All Class Videos are at https://www.youtube.com/mydatacafe\n",
    "#We are on Facebook https://www.facebook.com/mydatacafe/\n",
    "#We are on LinkedIn https://www.linkedin.com/company/mydatacafe/"
   ]
  },
  {
   "cell_type": "code",
   "execution_count": null,
   "metadata": {},
   "outputs": [],
   "source": []
  }
 ],
 "metadata": {
  "kernelspec": {
   "display_name": "Python 3",
   "language": "python",
   "name": "python3"
  },
  "language_info": {
   "codemirror_mode": {
    "name": "ipython",
    "version": 3
   },
   "file_extension": ".py",
   "mimetype": "text/x-python",
   "name": "python",
   "nbconvert_exporter": "python",
   "pygments_lexer": "ipython3",
   "version": "3.6.5"
  }
 },
 "nbformat": 4,
 "nbformat_minor": 1
}

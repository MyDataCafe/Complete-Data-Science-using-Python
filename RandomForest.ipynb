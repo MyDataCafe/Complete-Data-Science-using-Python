{
 "cells": [
  {
   "cell_type": "code",
   "execution_count": 1,
   "metadata": {},
   "outputs": [],
   "source": [
    "import numpy as np\n",
    "import pandas as pd\n",
    "import matplotlib.pyplot as plt\n",
    "%matplotlib inline"
   ]
  },
  {
   "cell_type": "code",
   "execution_count": 2,
   "metadata": {},
   "outputs": [],
   "source": [
    "#this is the same data that ahs been used for Logistic Regressio Case study. To know more abot the data\n",
    "#refer to the Logistic regression case study\n",
    "df=pd.read_csv(\"quality.csv\")#read the csv into python\n",
    "#print df.columns\n",
    "#print df.shape"
   ]
  },
  {
   "cell_type": "code",
   "execution_count": 9,
   "metadata": {},
   "outputs": [],
   "source": [
    "from sklearn.model_selection import train_test_split\n",
    "good_columns=df.drop(['MemberID','PoorCare'],axis=1)\n",
    "X_train, X_test, y_train, y_test = train_test_split(good_columns,df['PoorCare'],test_size=0.3,random_state=0)"
   ]
  },
  {
   "cell_type": "code",
   "execution_count": 10,
   "metadata": {},
   "outputs": [
    {
     "data": {
      "text/html": [
       "<div>\n",
       "<style scoped>\n",
       "    .dataframe tbody tr th:only-of-type {\n",
       "        vertical-align: middle;\n",
       "    }\n",
       "\n",
       "    .dataframe tbody tr th {\n",
       "        vertical-align: top;\n",
       "    }\n",
       "\n",
       "    .dataframe thead th {\n",
       "        text-align: right;\n",
       "    }\n",
       "</style>\n",
       "<table border=\"1\" class=\"dataframe\">\n",
       "  <thead>\n",
       "    <tr style=\"text-align: right;\">\n",
       "      <th></th>\n",
       "      <th>InpatientDays</th>\n",
       "      <th>ERVisits</th>\n",
       "      <th>OfficeVisits</th>\n",
       "      <th>Narcotics</th>\n",
       "      <th>DaysSinceLastERVisit</th>\n",
       "      <th>Pain</th>\n",
       "      <th>TotalVisits</th>\n",
       "      <th>ProviderCount</th>\n",
       "      <th>MedicalClaims</th>\n",
       "      <th>ClaimLines</th>\n",
       "      <th>StartedOnCombination</th>\n",
       "      <th>AcuteDrugGapSmall</th>\n",
       "    </tr>\n",
       "  </thead>\n",
       "  <tbody>\n",
       "    <tr>\n",
       "      <th>0</th>\n",
       "      <td>0</td>\n",
       "      <td>0</td>\n",
       "      <td>18</td>\n",
       "      <td>1</td>\n",
       "      <td>731.0</td>\n",
       "      <td>10</td>\n",
       "      <td>18</td>\n",
       "      <td>21</td>\n",
       "      <td>93</td>\n",
       "      <td>222</td>\n",
       "      <td>False</td>\n",
       "      <td>0</td>\n",
       "    </tr>\n",
       "    <tr>\n",
       "      <th>1</th>\n",
       "      <td>1</td>\n",
       "      <td>1</td>\n",
       "      <td>6</td>\n",
       "      <td>1</td>\n",
       "      <td>411.0</td>\n",
       "      <td>0</td>\n",
       "      <td>8</td>\n",
       "      <td>27</td>\n",
       "      <td>19</td>\n",
       "      <td>115</td>\n",
       "      <td>False</td>\n",
       "      <td>1</td>\n",
       "    </tr>\n",
       "    <tr>\n",
       "      <th>2</th>\n",
       "      <td>0</td>\n",
       "      <td>0</td>\n",
       "      <td>5</td>\n",
       "      <td>3</td>\n",
       "      <td>731.0</td>\n",
       "      <td>10</td>\n",
       "      <td>5</td>\n",
       "      <td>16</td>\n",
       "      <td>27</td>\n",
       "      <td>148</td>\n",
       "      <td>False</td>\n",
       "      <td>5</td>\n",
       "    </tr>\n",
       "    <tr>\n",
       "      <th>3</th>\n",
       "      <td>0</td>\n",
       "      <td>1</td>\n",
       "      <td>19</td>\n",
       "      <td>0</td>\n",
       "      <td>158.0</td>\n",
       "      <td>34</td>\n",
       "      <td>20</td>\n",
       "      <td>14</td>\n",
       "      <td>59</td>\n",
       "      <td>242</td>\n",
       "      <td>False</td>\n",
       "      <td>0</td>\n",
       "    </tr>\n",
       "    <tr>\n",
       "      <th>4</th>\n",
       "      <td>8</td>\n",
       "      <td>2</td>\n",
       "      <td>19</td>\n",
       "      <td>3</td>\n",
       "      <td>449.0</td>\n",
       "      <td>10</td>\n",
       "      <td>29</td>\n",
       "      <td>24</td>\n",
       "      <td>51</td>\n",
       "      <td>204</td>\n",
       "      <td>False</td>\n",
       "      <td>0</td>\n",
       "    </tr>\n",
       "  </tbody>\n",
       "</table>\n",
       "</div>"
      ],
      "text/plain": [
       "   InpatientDays  ERVisits  OfficeVisits  Narcotics  DaysSinceLastERVisit  \\\n",
       "0              0         0            18          1                 731.0   \n",
       "1              1         1             6          1                 411.0   \n",
       "2              0         0             5          3                 731.0   \n",
       "3              0         1            19          0                 158.0   \n",
       "4              8         2            19          3                 449.0   \n",
       "\n",
       "   Pain  TotalVisits  ProviderCount  MedicalClaims  ClaimLines  \\\n",
       "0    10           18             21             93         222   \n",
       "1     0            8             27             19         115   \n",
       "2    10            5             16             27         148   \n",
       "3    34           20             14             59         242   \n",
       "4    10           29             24             51         204   \n",
       "\n",
       "   StartedOnCombination  AcuteDrugGapSmall  \n",
       "0                 False                  0  \n",
       "1                 False                  1  \n",
       "2                 False                  5  \n",
       "3                 False                  0  \n",
       "4                 False                  0  "
      ]
     },
     "execution_count": 10,
     "metadata": {},
     "output_type": "execute_result"
    }
   ],
   "source": [
    "good_columns.head()"
   ]
  },
  {
   "cell_type": "code",
   "execution_count": 11,
   "metadata": {},
   "outputs": [],
   "source": [
    "from sklearn import tree"
   ]
  },
  {
   "cell_type": "code",
   "execution_count": 12,
   "metadata": {},
   "outputs": [],
   "source": [
    "cl_tree=tree.DecisionTreeClassifier(criterion=\"gini\",random_state=0,max_depth=2,min_samples_leaf=20)\n",
    "#the below 2 parameters can be used to control for Overfitting. Try to play around with these\n",
    "#and come up with a better model\n",
    "#max_depth=2 --- defines the depth of the tree.. More depth may lead to Overfitting\n",
    "#min_samples_leaf=20--- defines when the splitting will stop. here for example\n",
    "# if a node/BUCKET has less than 20 data pints, it will not go for a further split. This too wil control\n",
    "#overfitting. Smaller thsi value, more the overfitting."
   ]
  },
  {
   "cell_type": "code",
   "execution_count": 13,
   "metadata": {},
   "outputs": [],
   "source": [
    "cl_tree=cl_tree.fit(X_train,y_train)"
   ]
  },
  {
   "cell_type": "code",
   "execution_count": 15,
   "metadata": {},
   "outputs": [
    {
     "name": "stdout",
     "output_type": "stream",
     "text": [
      "col_0      0   1\n",
      "PoorCare        \n",
      "0         55  12\n",
      "1          9  15\n",
      "0.7692307692307693\n"
     ]
    }
   ],
   "source": [
    "#lets first predict on the train data\n",
    "pred_train=cl_tree.predict(X_train)\n",
    "#for the confusion matrix\n",
    "print (pd.crosstab(y_train,pred_train))\n",
    "# since we gave a very small depth &/or Very large value of min_samples_leaf, the Model is Underfit\n",
    "#it is going for very fewer spilts.... \n",
    "Accuracy_train=(55.0+15.0)/(55+15+9+12.0)\n",
    "print (Accuracy_train) #76%"
   ]
  },
  {
   "cell_type": "code",
   "execution_count": 17,
   "metadata": {},
   "outputs": [
    {
     "name": "stdout",
     "output_type": "stream",
     "text": [
      "col_0      0  1\n",
      "PoorCare       \n",
      "0         26  5\n",
      "1          5  4\n",
      "0.75\n"
     ]
    }
   ],
   "source": [
    "#use the tree to make prediction\n",
    "pred=cl_tree.predict(X_test)\n",
    "#for the confusion matrix\n",
    "print (pd.crosstab(y_test,pred))\n",
    "Accuracy_test=(26.0+4.0)/(26+5+5.0+4.0)\n",
    "print (Accuracy_test)"
   ]
  },
  {
   "cell_type": "code",
   "execution_count": null,
   "metadata": {},
   "outputs": [],
   "source": [
    "#so we Got 77% on train & 75% on Test.... Both are comparable. \n",
    "#it may it is a very simple... or underfit model..lets increease the DEPTH and decrease \n",
    "#min_samples_leaf to maek the tree more complex... "
   ]
  },
  {
   "cell_type": "code",
   "execution_count": null,
   "metadata": {},
   "outputs": [],
   "source": [
    "cl_tree2=tree.DecisionTreeClassifier(criterion=\"gini\",random_state=0,max_depth=12,min_samples_leaf=3)\n",
    "#THIS MEANS IT WILL GO ON SPLITITNG AS LONG AS IT EITHER REACHES A DEPTH OF 12 OR IT HAS LESS THAN\n",
    "#3 POINTS IN THE BUCKET......\n",
    "cl_tree2=cl_tree2.fit(X_train,y_train)\n",
    "#lets first predict on the train data\n",
    "pred_train=cl_tree2.predict(X_train)\n",
    "#for the confusion matrix\n",
    "print pd.crosstab(y_train,pred_train)\n",
    "Accuracy_train=(65.0+23.0)/(65+2.0+1.0+23.0)\n",
    "print Accuracy_train #96.7% better Than before.But we shud make sure performace is good in test as wel\n",
    "print \"*****************\"\n",
    "#use the tree to make prediction o test\n",
    "pred2=cl_tree2.predict(X_test)\n",
    "#for the confusion matrix\n",
    "print pd.crosstab(y_test,pred2)\n",
    "Accuracy_test=(25.0+6.0)/(25.0+6.0+3.0+6.0)\n",
    "print Accuracy_test #77.5% on test which is quit good..."
   ]
  },
  {
   "cell_type": "code",
   "execution_count": null,
   "metadata": {},
   "outputs": [],
   "source": [
    "#So accuracy in train = 96% and in test is 77.5%. So we have overfit thr model We will have to go back \n",
    "#and decrease the depth of the tree or increase the min_sample_leaf..\n",
    "#i will leave it to you guys....\n",
    "#lets SEE HOW A RANDOM FOREST WILL DO..."
   ]
  },
  {
   "cell_type": "code",
   "execution_count": 18,
   "metadata": {},
   "outputs": [],
   "source": []
  },
  {
   "cell_type": "code",
   "execution_count": null,
   "metadata": {},
   "outputs": [],
   "source": []
  },
  {
   "cell_type": "code",
   "execution_count": null,
   "metadata": {},
   "outputs": [],
   "source": []
  },
  {
   "cell_type": "markdown",
   "metadata": {},
   "source": [
    "# Random Forests"
   ]
  },
  {
   "cell_type": "code",
   "execution_count": 13,
   "metadata": {},
   "outputs": [
    {
     "data": {
      "text/plain": [
       "RandomForestClassifier(bootstrap=True, class_weight=None, criterion='gini',\n",
       "            max_depth=None, max_features=2, max_leaf_nodes=None,\n",
       "            min_impurity_decrease=0.0, min_impurity_split=None,\n",
       "            min_samples_leaf=1, min_samples_split=2,\n",
       "            min_weight_fraction_leaf=0.0, n_estimators=1500, n_jobs=1,\n",
       "            oob_score=True, random_state=None, verbose=0, warm_start=False)"
      ]
     },
     "execution_count": 13,
     "metadata": {},
     "output_type": "execute_result"
    }
   ],
   "source": [
    "from sklearn.ensemble import RandomForestClassifier\n",
    "rfc = RandomForestClassifier(n_estimators=1500,max_features=2,oob_score=True)\n",
    "#n_estimators== # of trees that you want => No.of samples that will be taken Each a bagged sample.\n",
    "#max_features=> The max no.of columns to be considered at each decision node..\n",
    "rfc.fit(X_train, y_train)"
   ]
  },
  {
   "cell_type": "code",
   "execution_count": 14,
   "metadata": {},
   "outputs": [
    {
     "name": "stdout",
     "output_type": "stream",
     "text": [
      "col_0      0   1\n",
      "PoorCare        \n",
      "0         67   0\n",
      "1          0  24\n"
     ]
    }
   ],
   "source": [
    "rfc_pred_train = rfc.predict(X_train)\n",
    "print pd.crosstab(y_train,rfc_pred_train)"
   ]
  },
  {
   "cell_type": "code",
   "execution_count": 15,
   "metadata": {},
   "outputs": [
    {
     "name": "stdout",
     "output_type": "stream",
     "text": [
      "col_0      0  1\n",
      "PoorCare       \n",
      "0         31  0\n",
      "1          6  3\n"
     ]
    }
   ],
   "source": [
    "#accuracuy in train by RF\n",
    "#67+24/TOTAL\n",
    "#=100% SO THE rF IS DOING 100% ON TRAINING DATA\n",
    "#LETS SEE ON TEST DATA\n",
    "rfc_pred_test = rfc.predict(X_test)\n",
    "print pd.crosstab(y_test,rfc_pred_test)"
   ]
  },
  {
   "cell_type": "code",
   "execution_count": 48,
   "metadata": {},
   "outputs": [
    {
     "name": "stdout",
     "output_type": "stream",
     "text": [
      "0.85\n"
     ]
    }
   ],
   "source": [
    "#accuracy on test\n",
    "test_accuracy_rf=(31.0+3.0)/(31.0+3.0+6.0+0.0)\n",
    "print (test_accuracy_rf)"
   ]
  },
  {
   "cell_type": "code",
   "execution_count": 56,
   "metadata": {},
   "outputs": [],
   "source": [
    "#85% on test data which is quite good.. Remember the decision tree will seldom or never predict with\n",
    "#such accuracy"
   ]
  },
  {
   "cell_type": "code",
   "execution_count": 57,
   "metadata": {},
   "outputs": [
    {
     "name": "stdout",
     "output_type": "stream",
     "text": [
      "0.208791208791\n"
     ]
    }
   ],
   "source": [
    "#lets check out what is the OOB error\n",
    "oob_error = 1 - rfc.oob_score_\n",
    "print oob_error #20% which is quite less....So we are good.."
   ]
  },
  {
   "cell_type": "code",
   "execution_count": 64,
   "metadata": {},
   "outputs": [
    {
     "name": "stdout",
     "output_type": "stream",
     "text": [
      "             precision    recall  f1-score   support\n",
      "\n",
      "          0       0.84      1.00      0.91        31\n",
      "          1       1.00      0.33      0.50         9\n",
      "\n",
      "avg / total       0.87      0.85      0.82        40\n",
      "\n",
      "*********\n",
      "[[31  0]\n",
      " [ 6  3]]\n"
     ]
    }
   ],
   "source": [
    "#instead of creating the Confusion matrix manually and then findinf the accuracy parameters\n",
    "#i could have also used this directly---------\n",
    "from sklearn.metrics import classification_report,confusion_matrix\n",
    "print(classification_report(y_test,rfc_pred_test))\n",
    "print \"*********\"\n",
    "print (confusion_matrix(y_test,rfc_pred_test)) # which is the same as what we got manually"
   ]
  },
  {
   "cell_type": "code",
   "execution_count": 31,
   "metadata": {
    "collapsed": true
   },
   "outputs": [],
   "source": [
    "features = good_columns.columns\n",
    "importances = rfc.feature_importances_\n",
    "indices = np.argsort(importances)"
   ]
  },
  {
   "cell_type": "code",
   "execution_count": 40,
   "metadata": {},
   "outputs": [
    {
     "data": {
      "image/png": "[encoded data removed]",
      "text/plain": [
       "<matplotlib.figure.Figure at 0x18aa8668>"
      ]
     },
     "metadata": {},
     "output_type": "display_data"
    }
   ],
   "source": [
    "plt.figure(figsize=(10,6))\n",
    "plt.title('Feature Importances')\n",
    "plt.barh(range(len(indices)), importances[indices], color='b', align='center')\n",
    "plt.yticks(range(len(indices)), features[indices])\n",
    "plt.xlabel('Relative Importance')\n",
    "plt.show()"
   ]
  },
  {
   "cell_type": "code",
   "execution_count": 41,
   "metadata": {},
   "outputs": [
    {
     "name": "stdout",
     "output_type": "stream",
     "text": [
      "Index([u'ERVisits', u'OfficeVisits', u'Narcotics', u'DaysSinceLastERVisit',\n",
      "       u'Pain', u'TotalVisits', u'ProviderCount', u'MedicalClaims',\n",
      "       u'ClaimLines', u'StartedOnCombination', u'AcuteDrugGapSmall'],\n",
      "      dtype='object')\n"
     ]
    }
   ],
   "source": [
    "print feature_names# these are the columns used to prepare the RF model.\n",
    "#out OF THESE THE ABOVE PLOT SHOWS WHICH ARE MORE IMPORTANT AND WHICH ARE LESS IMP"
   ]
  },
  {
   "cell_type": "code",
   "execution_count": 19,
   "metadata": {},
   "outputs": [],
   "source": [
    "# THERE CAN BE SEVERAL USAGES OF THE ABOVE PLOT--\n",
    "#1) FIND OUT WHICH variables(IV's) are causing our variable of interest (DV)\n",
    "#2) so this helps us find the causality and eliminate less imp variables\n",
    "#3) we can select the imp variables from the above plot and use them to build a Linear/logistic model\n",
    "#the lin/logistic models will than be less prone of overfiting as you would have removed unimp ones\n",
    "#already."
   ]
  }
 ],
 "metadata": {
  "anaconda-cloud": {},
  "kernelspec": {
   "display_name": "Python 3",
   "language": "python",
   "name": "python3"
  },
  "language_info": {
   "codemirror_mode": {
    "name": "ipython",
    "version": 3
   },
   "file_extension": ".py",
   "mimetype": "text/x-python",
   "name": "python",
   "nbconvert_exporter": "python",
   "pygments_lexer": "ipython3",
   "version": "3.6.5"
  }
 },
 "nbformat": 4,
 "nbformat_minor": 1
}

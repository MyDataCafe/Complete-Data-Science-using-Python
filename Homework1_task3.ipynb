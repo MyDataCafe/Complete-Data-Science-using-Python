{
 "cells": [
  {
   "cell_type": "code",
   "execution_count": null,
   "metadata": {},
   "outputs": [],
   "source": [
    "#All codes are available at https://github.com/MyDataCafe/\n",
    "#All Class Videos are at https://www.youtube.com/mydatacafe\n",
    "#We are on Facebook https://www.facebook.com/mydatacafe/\n",
    "#We are on LinkedIn https://www.linkedin.com/company/mydatacafe/"
   ]
  },
  {
   "cell_type": "markdown",
   "metadata": {
    "colab_type": "text",
    "id": "xtB-v99AHG3T"
   },
   "source": [
    "<span style=\"font-family: Arial; font-weight:bold;font-size:1.5em;\"> Lab Exercise- Honey Production\n",
    "\n",
    "<span style=\"font-family: Arial; font-weight:bold;font-size:1.5em;\"> Context\n",
    "    \n",
    "In 2006, global concern was raised over the rapid decline in the honeybee population, an integral component to American honey agriculture. Large numbers of hives were lost to Colony Collapse Disorder, a phenomenon of disappearing worker bees causing the remaining hive colony to collapse. Speculation to the cause of this disorder points to hive diseases and pesticides harming the pollinators, though no overall consensus has been reached. Twelve years later, some industries are observing recovery but the American honey industry is still largely struggling. The U.S. used to locally produce over half the honey it consumes per year. Now, honey mostly comes from overseas, with 350 of the 400 million pounds of honey consumed every year originating from imports. This dataset provides insight into honey production supply and demand in America by state from 1998 to 2012.\n",
    "\n",
    "<span style=\"font-family: Arial; font-weight:bold;font-size:1.5em;\"> Content\n",
    "    \n",
    "The National Agricultural Statistics Service (NASS) is the primary data reporting body for the US Department of Agriculture (USDA). NASS's mission is to \"provide timely, accurate, and useful statistics in service to U.S. agriculture\". From datasets to census surveys, their data covers virtually all aspects of U.S. agriculture. Honey production is one of the datasets offered. Click here for the original page containing the data along with related datasets such as Honey Bee Colonies and Cost of Pollination. Data wrangling was performed in order to clean the dataset. honeyproduction.csv is the final tidy dataset suitable for analysis. The three other datasets (which include \"honeyraw\" in the title) are the original raw data downloaded from the site. They are uploaded to this page along with the \"Wrangling The Honey Production Dataset\" kernel as an example to show users how data can be wrangled into a cleaner format. Useful metadata on certain variables of the honeyproduction dataset is provided below:\n",
    "\n",
    "  - numcol: Number of honey producing colonies. Honey producing colonies are the maximum number of colonies from which honey was taken during the year. It is possible to take honey from colonies which did not survive the entire year\n",
    "  - yieldpercol: Honey yield per colony. Unit is pounds\n",
    "  - totalprod: Total production (numcol x yieldpercol). Unit is pounds\n",
    "  - stocks: Refers to stocks held by producers. Unit is pounds\n",
    "  - priceperlb: Refers to average price per pound based on expanded sales. Unit is dollars.\n",
    "  - prodvalue: Value of production (totalprod x priceperlb). Unit is dollars.\n",
    "  - Other useful information: Certain states are excluded every year (ex. CT) to avoid disclosing data for individual operations. Due to rounding, total colonies multiplied by total yield may not equal production. Also, summation of states will not equal U.S. level value of production.\n",
    "\n",
    "\n",
    "<span style=\"font-family: Arial; font-weight:bold;font-size:1.5em;\"> Acknowledgements\n",
    "\n",
    "Honey production data was published by the National Agricultural Statistics Service (NASS) of the U.S. Department of Agriculture.\n",
    "\n",
    "\n",
    "   \n",
    "\n"
   ]
  },
  {
   "cell_type": "markdown",
   "metadata": {
    "colab_type": "text",
    "id": "YIeoCDWBHG3V"
   },
   "source": [
    "<span style=\"font-family: Arial; font-weight:bold;font-size:1.5em;\"> Q 1\n",
    "    \n",
    "**Import pandas, numpy, seaborn packages under the appropriate aliases as you seem fit if necessary.** "
   ]
  },
  {
   "cell_type": "code",
   "execution_count": null,
   "metadata": {
    "ExecuteTime": {
     "end_time": "2020-06-10T07:31:21.941324Z",
     "start_time": "2020-06-10T07:31:16.208202Z"
    },
    "colab": {},
    "colab_type": "code",
    "id": "-P9-oudyHG3Y"
   },
   "outputs": [],
   "source": []
  },
  {
   "cell_type": "markdown",
   "metadata": {
    "colab_type": "text",
    "id": "nUWVJE1JHG3e"
   },
   "source": [
    "<span style=\"font-family: Arial; font-weight:bold;font-size:1.5em;\"> Q 2\n",
    "    \n",
    "**Import the honeyproduction.csv file**"
   ]
  },
  {
   "cell_type": "code",
   "execution_count": null,
   "metadata": {
    "ExecuteTime": {
     "end_time": "2020-06-10T07:31:57.210505Z",
     "start_time": "2020-06-10T07:31:57.201496Z"
    },
    "colab": {},
    "colab_type": "code",
    "id": "bcmA_jlsHG3f"
   },
   "outputs": [],
   "source": []
  },
  {
   "cell_type": "markdown",
   "metadata": {
    "colab_type": "text",
    "id": "dVy5uR-HHG3j"
   },
   "source": [
    "<span style=\"font-family: Arial; font-weight:bold;font-size:1.5em;\"> Q 3\n",
    "    \n",
    "**Check first five observations of the data, basic measures of descriptive statistics and the information about the various data types of each variable in the data. Also, check whether there are null values present in the data.** (1 Marks)"
   ]
  },
  {
   "cell_type": "code",
   "execution_count": null,
   "metadata": {
    "ExecuteTime": {
     "end_time": "2020-06-10T07:33:15.038067Z",
     "start_time": "2020-06-10T07:33:15.025104Z"
    },
    "colab": {},
    "colab_type": "code",
    "id": "EfbHZr15HG3k",
    "outputId": "871cba56-9917-489c-8437-46762aea9fa7"
   },
   "outputs": [],
   "source": []
  },
  {
   "cell_type": "code",
   "execution_count": null,
   "metadata": {
    "ExecuteTime": {
     "end_time": "2020-06-10T07:33:16.301603Z",
     "start_time": "2020-06-10T07:33:16.267822Z"
    },
    "colab": {},
    "colab_type": "code",
    "id": "zvDC6Zf3HG3q",
    "outputId": "80b0725f-e1a3-4266-ac9b-d850d600d7f5"
   },
   "outputs": [],
   "source": []
  },
  {
   "cell_type": "code",
   "execution_count": null,
   "metadata": {
    "ExecuteTime": {
     "end_time": "2020-06-10T07:33:23.844575Z",
     "start_time": "2020-06-10T07:33:23.835597Z"
    },
    "colab": {},
    "colab_type": "code",
    "id": "zvWVnEabHG3v",
    "outputId": "349f864d-790d-43cd-f68a-c20961a714c8"
   },
   "outputs": [],
   "source": []
  },
  {
   "cell_type": "code",
   "execution_count": null,
   "metadata": {
    "ExecuteTime": {
     "end_time": "2020-06-10T07:33:24.381048Z",
     "start_time": "2020-06-10T07:33:24.374067Z"
    }
   },
   "outputs": [],
   "source": []
  },
  {
   "cell_type": "markdown",
   "metadata": {
    "colab_type": "text",
    "id": "ijTsg_vUHG31"
   },
   "source": [
    " <span style=\"font-family: Arial; font-weight:bold;font-size:1.5em;\"> Q 4\n",
    "    \n",
    " **How many States are included in the dataset?** (0.5 Marks)"
   ]
  },
  {
   "cell_type": "code",
   "execution_count": null,
   "metadata": {
    "ExecuteTime": {
     "end_time": "2020-06-10T07:33:27.664685Z",
     "start_time": "2020-06-10T07:33:27.659699Z"
    },
    "colab": {},
    "colab_type": "code",
    "id": "kh-gAE7wHG33",
    "outputId": "89556726-aa6d-45d5-c03c-d95e7c0d1d14"
   },
   "outputs": [],
   "source": []
  },
  {
   "cell_type": "markdown",
   "metadata": {
    "colab_type": "text",
    "id": "TLHxD3_PHG38"
   },
   "source": [
    "<span style=\"font-family: Arial; font-weight:bold;font-size:1.5em;\"> Q 5\n",
    " \n",
    " **Which are the States that are included in this dataset?** (0.5 Marks)"
   ]
  },
  {
   "cell_type": "code",
   "execution_count": null,
   "metadata": {
    "ExecuteTime": {
     "end_time": "2020-06-10T07:33:31.713964Z",
     "start_time": "2020-06-10T07:33:31.708975Z"
    },
    "colab": {},
    "colab_type": "code",
    "id": "RzWHUi23HG39",
    "outputId": "c9f5d009-4061-457f-ebcf-784875a28603"
   },
   "outputs": [],
   "source": []
  },
  {
   "cell_type": "markdown",
   "metadata": {
    "colab_type": "text",
    "id": "c0EIZ-bXHG4C"
   },
   "source": [
    "<span style=\"font-family: Arial; font-weight:bold;font-size:1.5em;\"> Q 6\n",
    "\n",
    "**Calculate the average production for each state across all years (state wise average production)**(0.5 Marks)"
   ]
  },
  {
   "cell_type": "code",
   "execution_count": null,
   "metadata": {
    "ExecuteTime": {
     "end_time": "2020-06-10T07:34:02.012362Z",
     "start_time": "2020-06-10T07:34:01.999398Z"
    }
   },
   "outputs": [],
   "source": []
  },
  {
   "cell_type": "markdown",
   "metadata": {
    "colab_type": "text",
    "id": "SIvNVXN7HG4I"
   },
   "source": [
    "<span style=\"font-family: Arial; font-weight:bold;font-size:1.5em;\"> Q 7\n",
    "    \n",
    " **How many years data is provided in the dataset? Also, what is the earliest year and the latest year present in the data?** (1 Marks)"
   ]
  },
  {
   "cell_type": "code",
   "execution_count": null,
   "metadata": {
    "ExecuteTime": {
     "end_time": "2020-06-10T07:34:42.677630Z",
     "start_time": "2020-06-10T07:34:42.672646Z"
    },
    "colab": {},
    "colab_type": "code",
    "id": "9MuXEDQCHG4J",
    "outputId": "73cf520a-5294-40d6-debc-926f995f2d41"
   },
   "outputs": [],
   "source": []
  },
  {
   "cell_type": "code",
   "execution_count": null,
   "metadata": {
    "ExecuteTime": {
     "end_time": "2020-06-10T07:34:43.179081Z",
     "start_time": "2020-06-10T07:34:43.174067Z"
    },
    "colab": {},
    "colab_type": "code",
    "id": "nC5wJywAHG4N",
    "outputId": "f2b50adc-c7ab-49c1-bf66-49e2a3fccbda"
   },
   "outputs": [],
   "source": []
  },
  {
   "cell_type": "code",
   "execution_count": null,
   "metadata": {
    "ExecuteTime": {
     "end_time": "2020-06-10T07:34:43.575573Z",
     "start_time": "2020-06-10T07:34:43.570584Z"
    },
    "colab": {},
    "colab_type": "code",
    "id": "Rjxt1vuAHG4R",
    "outputId": "a3804383-cbb5-4bbc-fef4-61c76f838dd1"
   },
   "outputs": [],
   "source": []
  },
  {
   "cell_type": "markdown",
   "metadata": {
    "colab_type": "text",
    "id": "3bDduPTRHG4V"
   },
   "source": [
    "<span style=\"font-family: Arial; font-weight:bold;font-size:1.5em;\"> Q 8\n",
    "\n",
    "**Which State has seen highest volume in production, and in which year?**(0.5 Marks)"
   ]
  },
  {
   "cell_type": "code",
   "execution_count": null,
   "metadata": {
    "ExecuteTime": {
     "end_time": "2020-06-10T07:34:50.119045Z",
     "start_time": "2020-06-10T07:34:50.108115Z"
    },
    "colab": {},
    "colab_type": "code",
    "id": "E9c1FulPHG4W",
    "outputId": "cc334630-01eb-44e8-ee41-2fc6d0f8e436"
   },
   "outputs": [],
   "source": []
  },
  {
   "cell_type": "markdown",
   "metadata": {
    "colab_type": "text",
    "id": "SgyNShRTHG4b"
   },
   "source": [
    "<span style=\"font-family: Arial; font-weight:bold;font-size:1.5em;\"> Q 9\n",
    "    \n",
    "__What is the average yield per colony , for each year?__ (0.5 Marks)"
   ]
  },
  {
   "cell_type": "code",
   "execution_count": null,
   "metadata": {
    "ExecuteTime": {
     "end_time": "2020-06-10T07:34:56.706252Z",
     "start_time": "2020-06-10T07:34:56.693299Z"
    },
    "colab": {},
    "colab_type": "code",
    "id": "YeMX_NYBHG4c",
    "outputId": "1dd5da38-f4a2-4d74-9b0b-328c441f4c9b"
   },
   "outputs": [],
   "source": []
  },
  {
   "cell_type": "markdown",
   "metadata": {},
   "source": [
    "<span style=\"font-family: Arial; font-weight:bold;font-size:1.5em;\"> Q 10\n",
    "\n",
    "**Check the Distribution and the spread of the data along with outliers in \"totalprod\",\"stocks\" and 'prodvalue'.** (1 Marks)\n",
    "\n",
    "Hint: use distplot and boxplot"
   ]
  },
  {
   "cell_type": "code",
   "execution_count": null,
   "metadata": {
    "ExecuteTime": {
     "end_time": "2020-06-10T07:36:49.965546Z",
     "start_time": "2020-06-10T07:36:49.105042Z"
    },
    "scrolled": false
   },
   "outputs": [],
   "source": []
  },
  {
   "cell_type": "markdown",
   "metadata": {
    "ExecuteTime": {
     "end_time": "2020-06-09T09:40:20.927339Z",
     "start_time": "2020-06-09T09:40:20.922353Z"
    }
   },
   "source": [
    "<span style=\"font-family: Arial; font-weight:bold;font-size:1.5em;\"> Q 11\n",
    "    \n",
    "**Visualize how \"priceperlb\" and \"yieldpercol\" have changed with respect to the years** (1 Marks)\n",
    "\n",
    "Hint: Use boxplot"
   ]
  },
  {
   "cell_type": "code",
   "execution_count": null,
   "metadata": {
    "ExecuteTime": {
     "end_time": "2020-06-10T07:38:14.809982Z",
     "start_time": "2020-06-10T07:38:14.239507Z"
    }
   },
   "outputs": [],
   "source": []
  },
  {
   "cell_type": "code",
   "execution_count": null,
   "metadata": {
    "ExecuteTime": {
     "end_time": "2020-06-10T07:38:09.468041Z",
     "start_time": "2020-06-10T07:38:09.181768Z"
    }
   },
   "outputs": [],
   "source": []
  },
  {
   "cell_type": "markdown",
   "metadata": {
    "colab_type": "text",
    "id": "oGdzAVwQHG4g"
   },
   "source": [
    "<span style=\"font-family: Arial; font-weight:bold;font-size:1.5em;\"> Q 12\n",
    "\n",
    "\n",
    "**Plot the scatterplots for the numerical variables with each other with the 'year' variable as hue. Ignore the 'state' variable for this analysis.** (1 Marks)\n",
    "\n",
    "Hint: Use the Pairplot() command within the seaborn graphical subroutine."
   ]
  },
  {
   "cell_type": "code",
   "execution_count": null,
   "metadata": {
    "ExecuteTime": {
     "end_time": "2020-06-10T07:54:01.530889Z",
     "start_time": "2020-06-10T07:54:01.516926Z"
    }
   },
   "outputs": [],
   "source": []
  },
  {
   "cell_type": "code",
   "execution_count": null,
   "metadata": {
    "ExecuteTime": {
     "end_time": "2020-06-10T07:54:40.936901Z",
     "start_time": "2020-06-10T07:54:40.927933Z"
    }
   },
   "outputs": [],
   "source": []
  },
  {
   "cell_type": "code",
   "execution_count": null,
   "metadata": {
    "ExecuteTime": {
     "end_time": "2020-06-10T07:54:48.995516Z",
     "start_time": "2020-06-10T07:54:48.984546Z"
    }
   },
   "outputs": [],
   "source": []
  },
  {
   "cell_type": "code",
   "execution_count": null,
   "metadata": {
    "ExecuteTime": {
     "end_time": "2020-06-10T07:55:31.838314Z",
     "start_time": "2020-06-10T07:55:13.845006Z"
    },
    "colab": {},
    "colab_type": "code",
    "id": "I94j5DN0HG4h",
    "outputId": "ca60f271-61eb-48e8-9be8-4b013128ece1"
   },
   "outputs": [],
   "source": []
  },
  {
   "cell_type": "markdown",
   "metadata": {},
   "source": [
    "<span style=\"font-family: Arial; font-weight:bold;font-size:1.5em;\"> Q 13\n",
    "\n",
    "\n",
    "**Calculate the correlations for the numerical variables. Ignore the 'state' and the 'year' variable for this analysis. Also,plot the correlations as a heatmap.** (1 Marks)\n",
    "\n",
    "Hint: Use the heatmap() command within the seaborn graphical subroutine."
   ]
  },
  {
   "cell_type": "code",
   "execution_count": null,
   "metadata": {
    "ExecuteTime": {
     "end_time": "2020-06-10T07:57:36.144183Z",
     "start_time": "2020-06-10T07:57:36.125233Z"
    },
    "colab": {},
    "colab_type": "code",
    "id": "NK1dRuozHG4l"
   },
   "outputs": [],
   "source": []
  },
  {
   "cell_type": "code",
   "execution_count": null,
   "metadata": {
    "ExecuteTime": {
     "end_time": "2020-06-10T07:57:59.973603Z",
     "start_time": "2020-06-10T07:57:59.774540Z"
    },
    "colab": {},
    "colab_type": "code",
    "id": "oVRAvAuGHG4p",
    "outputId": "d66ffa01-4afc-4311-800f-b5342357d0e5"
   },
   "outputs": [],
   "source": []
  },
  {
   "cell_type": "markdown",
   "metadata": {},
   "source": [
    "numcol and totalprod have the highest correlation (95%)"
   ]
  },
  {
   "cell_type": "markdown",
   "metadata": {
    "colab_type": "text",
    "id": "f1fnbPc_HG4u"
   },
   "source": [
    " <span style=\"font-family: Arial; font-weight:bold;font-size:1.5em;\"> Q 14\n",
    "\n",
    "**What is the general Production trend from 1998 to 2012? Describe visually.(totalpod)** (0.5 Marks)\n",
    "\n",
    "Hint: use pointplot()"
   ]
  },
  {
   "cell_type": "code",
   "execution_count": null,
   "metadata": {
    "ExecuteTime": {
     "end_time": "2020-06-10T07:58:30.447525Z",
     "start_time": "2020-06-10T07:58:29.948858Z"
    },
    "colab": {},
    "colab_type": "code",
    "id": "6be8QPZ8HG4w",
    "outputId": "cefecb38-9897-4e07-d5f0-05bf6723cb97",
    "scrolled": false
   },
   "outputs": [],
   "source": []
  },
  {
   "cell_type": "markdown",
   "metadata": {
    "colab_type": "text",
    "id": "uc2S5UmUHG5B"
   },
   "source": [
    "<span style=\"font-family: Arial; font-weight:bold;font-size:1.5em;\"> Q 15\n",
    "\n",
    "**Is there a linear relationship between the Number of Colonies & Value in Production? Check at an overall level and year level as well**(1 Marks)\n",
    "\n",
    "Hint: Use Lmplot()"
   ]
  },
  {
   "cell_type": "code",
   "execution_count": null,
   "metadata": {
    "ExecuteTime": {
     "end_time": "2020-06-10T08:02:21.939403Z",
     "start_time": "2020-06-10T08:02:21.679634Z"
    },
    "colab": {},
    "colab_type": "code",
    "id": "cdDkQdLMHG5D",
    "outputId": "f3a0bb32-6c36-44dd-dae5-1fb90f57ab3d"
   },
   "outputs": [],
   "source": []
  },
  {
   "cell_type": "code",
   "execution_count": null,
   "metadata": {
    "ExecuteTime": {
     "end_time": "2020-06-10T08:04:53.657041Z",
     "start_time": "2020-06-10T08:04:52.080575Z"
    },
    "colab": {},
    "colab_type": "code",
    "id": "DF-9IuPkHG5K",
    "outputId": "6513a838-d535-4597-c5eb-017d1870d43c"
   },
   "outputs": [],
   "source": []
  },
  {
   "cell_type": "markdown",
   "metadata": {
    "colab_type": "text",
    "id": "Iwx9TM4jHG5O"
   },
   "source": [
    "<span style=\"font-family: Arial; font-weight:bold;font-size:1.5em;\"> Q 16\n",
    "    \n",
    "**How has the Value in Production changed over the years?** (Optional Question)\n",
    "\n",
    "Hint: Use pointplot()."
   ]
  },
  {
   "cell_type": "code",
   "execution_count": null,
   "metadata": {
    "ExecuteTime": {
     "end_time": "2020-06-10T08:05:57.517588Z",
     "start_time": "2020-06-10T08:05:57.068755Z"
    },
    "colab": {},
    "colab_type": "code",
    "id": "c49LNL0wHG5V",
    "outputId": "73bc9182-9b70-4f34-b73b-9e0ee0123197"
   },
   "outputs": [],
   "source": []
  },
  {
   "cell_type": "markdown",
   "metadata": {
    "colab_type": "text",
    "id": "ggM4J50rHG5b"
   },
   "source": [
    "<span style=\"font-family: Arial; font-weight:bold;font-size:1.5em;\"> Q 17\n",
    "    \n",
    "**What is the linear relationship between Production volume & value over the years?** (Optional Question)\n",
    "\n",
    "Hint: Use lmplot() "
   ]
  },
  {
   "cell_type": "code",
   "execution_count": null,
   "metadata": {
    "ExecuteTime": {
     "end_time": "2020-06-10T08:06:38.713862Z",
     "start_time": "2020-06-10T08:06:37.252771Z"
    },
    "colab": {},
    "colab_type": "code",
    "id": "BPhE23_fHG5c",
    "outputId": "d80b97c6-610a-4b9c-e5f4-6d21201dab21"
   },
   "outputs": [],
   "source": []
  },
  {
   "cell_type": "markdown",
   "metadata": {
    "colab_type": "text",
    "id": "kT_RhBjaHG45"
   },
   "source": [
    "<span style=\"font-family: Arial; font-weight:bold;font-size:1.5em;\"> Q 18\n",
    "    \n",
    "    \n",
    "**How is the production trend for each State? Describe visually** (Optional Question)\n",
    "\n",
    "- Hint (Use sns.FacetGrid() & g.map() functions)"
   ]
  },
  {
   "cell_type": "code",
   "execution_count": null,
   "metadata": {
    "ExecuteTime": {
     "end_time": "2020-06-10T08:01:12.245022Z",
     "start_time": "2020-06-10T08:00:59.211995Z"
    },
    "colab": {},
    "colab_type": "code",
    "id": "s33q4SNdHG48",
    "outputId": "a46ce7ae-2e01-45c8-f258-ecc6da7544e2",
    "scrolled": false
   },
   "outputs": [],
   "source": []
  },
  {
   "cell_type": "code",
   "execution_count": null,
   "metadata": {},
   "outputs": [],
   "source": [
    "#All codes are available at https://github.com/MyDataCafe/\n",
    "#All Class Videos are at https://www.youtube.com/mydatacafe\n",
    "#We are on Facebook https://www.facebook.com/mydatacafe/\n",
    "#We are on LinkedIn https://www.linkedin.com/company/mydatacafe/"
   ]
  },
  {
   "cell_type": "markdown",
   "metadata": {},
   "source": [
    "# END"
   ]
  }
 ],
 "metadata": {
  "colab": {
   "name": "Pandas & Data Visualization - Honey Production Kaggle Dataset.ipynb",
   "provenance": []
  },
  "kernelspec": {
   "display_name": "Python 3",
   "language": "python",
   "name": "python3"
  },
  "language_info": {
   "codemirror_mode": {
    "name": "ipython",
    "version": 3
   },
   "file_extension": ".py",
   "mimetype": "text/x-python",
   "name": "python",
   "nbconvert_exporter": "python",
   "pygments_lexer": "ipython3",
   "version": "3.6.5"
  },
  "toc": {
   "base_numbering": 1,
   "nav_menu": {},
   "number_sections": true,
   "sideBar": true,
   "skip_h1_title": false,
   "title_cell": "Table of Contents",
   "title_sidebar": "Contents",
   "toc_cell": false,
   "toc_position": {},
   "toc_section_display": true,
   "toc_window_display": false
  },
  "varInspector": {
   "cols": {
    "lenName": 16,
    "lenType": 16,
    "lenVar": 40
   },
   "kernels_config": {
    "python": {
     "delete_cmd_postfix": "",
     "delete_cmd_prefix": "del ",
     "library": "var_list.py",
     "varRefreshCmd": "print(var_dic_list())"
    },
    "r": {
     "delete_cmd_postfix": ") ",
     "delete_cmd_prefix": "rm(",
     "library": "var_list.r",
     "varRefreshCmd": "cat(var_dic_list()) "
    }
   },
   "types_to_exclude": [
    "module",
    "function",
    "builtin_function_or_method",
    "instance",
    "_Feature"
   ],
   "window_display": false
  }
 },
 "nbformat": 4,
 "nbformat_minor": 1
}

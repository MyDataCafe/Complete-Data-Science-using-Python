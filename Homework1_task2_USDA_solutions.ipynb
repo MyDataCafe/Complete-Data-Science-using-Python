{
 "cells": [
  {
   "cell_type": "markdown",
   "metadata": {},
   "source": [
    "# United States Department of Agriculture "
   ]
  },
  {
   "cell_type": "markdown",
   "metadata": {},
   "source": [
    "The file is taken from this website--\n",
    "https://ndb.nal.usda.gov/ndb/      --------> open this website and have alook once.\n",
    "Feel free to add new spaces by pressing enter or new lines by going to insert button above"
   ]
  },
  {
   "cell_type": "code",
   "execution_count": 1,
   "metadata": {},
   "outputs": [],
   "source": [
    "#All codes are available at https://github.com/MyDataCafe/\n",
    "#All Class Videos are at https://www.youtube.com/mydatacafe\n",
    "#We are on Facebook https://www.facebook.com/mydatacafe/\n",
    "#We are on LinkedIn https://www.linkedin.com/company/mydatacafe/"
   ]
  },
  {
   "cell_type": "code",
   "execution_count": 1,
   "metadata": {},
   "outputs": [],
   "source": [
    "#Week2\n",
    "#Assignment3\n",
    "##read the USDA.csv file into R\n",
    "#How many Rows and coluns are in the dataframe?? (hint use df.shape function)"
   ]
  },
  {
   "cell_type": "code",
   "execution_count": 2,
   "metadata": {},
   "outputs": [],
   "source": [
    "#import all libraries\n",
    "import pandas as pd\n",
    "import numpy as np"
   ]
  },
  {
   "cell_type": "code",
   "execution_count": 3,
   "metadata": {},
   "outputs": [
    {
     "name": "stdout",
     "output_type": "stream",
     "text": [
      "(7058, 16)\n"
     ]
    }
   ],
   "source": [
    "df=pd.read_csv(\"USDA.csv\")\n",
    "print(df.shape)"
   ]
  },
  {
   "cell_type": "code",
   "execution_count": 4,
   "metadata": {},
   "outputs": [
    {
     "data": {
      "text/plain": [
       "ID                int64\n",
       "Description      object\n",
       "Calories        float64\n",
       "Protein         float64\n",
       "TotalFat        float64\n",
       "Carbohydrate    float64\n",
       "Sodium          float64\n",
       "SaturatedFat    float64\n",
       "Cholesterol     float64\n",
       "Sugar           float64\n",
       "Calcium         float64\n",
       "Iron            float64\n",
       "Potassium       float64\n",
       "VitaminC        float64\n",
       "VitaminE        float64\n",
       "VitaminD        float64\n",
       "dtype: object"
      ]
     },
     "execution_count": 4,
     "metadata": {},
     "output_type": "execute_result"
    }
   ],
   "source": [
    "#get the datatype of each column\n",
    "df.dtypes# here object emans its a qualitative variable"
   ]
  },
  {
   "cell_type": "code",
   "execution_count": 5,
   "metadata": {},
   "outputs": [
    {
     "name": "stderr",
     "output_type": "stream",
     "text": [
      "C:\\Users\\singh\\Anaconda2\\lib\\site-packages\\numpy\\lib\\function_base.py:4274: RuntimeWarning: Invalid value encountered in percentile\n",
      "  interpolation=interpolation)\n"
     ]
    },
    {
     "data": {
      "text/html": [
       "<div>\n",
       "<table border=\"1\" class=\"dataframe\">\n",
       "  <thead>\n",
       "    <tr style=\"text-align: right;\">\n",
       "      <th></th>\n",
       "      <th>ID</th>\n",
       "      <th>Calories</th>\n",
       "      <th>Protein</th>\n",
       "      <th>TotalFat</th>\n",
       "      <th>Carbohydrate</th>\n",
       "      <th>Sodium</th>\n",
       "      <th>SaturatedFat</th>\n",
       "      <th>Cholesterol</th>\n",
       "      <th>Sugar</th>\n",
       "      <th>Calcium</th>\n",
       "      <th>Iron</th>\n",
       "      <th>Potassium</th>\n",
       "      <th>VitaminC</th>\n",
       "      <th>VitaminE</th>\n",
       "      <th>VitaminD</th>\n",
       "    </tr>\n",
       "  </thead>\n",
       "  <tbody>\n",
       "    <tr>\n",
       "      <th>count</th>\n",
       "      <td>7058.000000</td>\n",
       "      <td>7057.000000</td>\n",
       "      <td>7057.000000</td>\n",
       "      <td>7057.000000</td>\n",
       "      <td>7057.000000</td>\n",
       "      <td>6974.000000</td>\n",
       "      <td>6757.000000</td>\n",
       "      <td>6770.000000</td>\n",
       "      <td>5148.000000</td>\n",
       "      <td>6922.000000</td>\n",
       "      <td>6935.000000</td>\n",
       "      <td>6649.000000</td>\n",
       "      <td>6726.000000</td>\n",
       "      <td>4338.000000</td>\n",
       "      <td>4224.000000</td>\n",
       "    </tr>\n",
       "    <tr>\n",
       "      <th>mean</th>\n",
       "      <td>14259.821196</td>\n",
       "      <td>219.695338</td>\n",
       "      <td>11.710368</td>\n",
       "      <td>10.320614</td>\n",
       "      <td>20.697860</td>\n",
       "      <td>322.059220</td>\n",
       "      <td>3.452267</td>\n",
       "      <td>41.551994</td>\n",
       "      <td>8.256540</td>\n",
       "      <td>73.530627</td>\n",
       "      <td>2.828368</td>\n",
       "      <td>301.357949</td>\n",
       "      <td>9.435980</td>\n",
       "      <td>1.487462</td>\n",
       "      <td>0.576918</td>\n",
       "    </tr>\n",
       "    <tr>\n",
       "      <th>std</th>\n",
       "      <td>8577.179705</td>\n",
       "      <td>172.198755</td>\n",
       "      <td>10.919356</td>\n",
       "      <td>16.814191</td>\n",
       "      <td>27.630443</td>\n",
       "      <td>1045.416931</td>\n",
       "      <td>6.921267</td>\n",
       "      <td>122.963028</td>\n",
       "      <td>15.361509</td>\n",
       "      <td>222.445338</td>\n",
       "      <td>6.019878</td>\n",
       "      <td>415.638949</td>\n",
       "      <td>71.256536</td>\n",
       "      <td>5.386914</td>\n",
       "      <td>4.301147</td>\n",
       "    </tr>\n",
       "    <tr>\n",
       "      <th>min</th>\n",
       "      <td>1001.000000</td>\n",
       "      <td>0.000000</td>\n",
       "      <td>0.000000</td>\n",
       "      <td>0.000000</td>\n",
       "      <td>0.000000</td>\n",
       "      <td>0.000000</td>\n",
       "      <td>0.000000</td>\n",
       "      <td>0.000000</td>\n",
       "      <td>0.000000</td>\n",
       "      <td>0.000000</td>\n",
       "      <td>0.000000</td>\n",
       "      <td>0.000000</td>\n",
       "      <td>0.000000</td>\n",
       "      <td>0.000000</td>\n",
       "      <td>0.000000</td>\n",
       "    </tr>\n",
       "    <tr>\n",
       "      <th>25%</th>\n",
       "      <td>8387.250000</td>\n",
       "      <td>NaN</td>\n",
       "      <td>NaN</td>\n",
       "      <td>NaN</td>\n",
       "      <td>NaN</td>\n",
       "      <td>NaN</td>\n",
       "      <td>NaN</td>\n",
       "      <td>NaN</td>\n",
       "      <td>NaN</td>\n",
       "      <td>NaN</td>\n",
       "      <td>NaN</td>\n",
       "      <td>NaN</td>\n",
       "      <td>NaN</td>\n",
       "      <td>NaN</td>\n",
       "      <td>NaN</td>\n",
       "    </tr>\n",
       "    <tr>\n",
       "      <th>50%</th>\n",
       "      <td>13293.500000</td>\n",
       "      <td>NaN</td>\n",
       "      <td>NaN</td>\n",
       "      <td>NaN</td>\n",
       "      <td>NaN</td>\n",
       "      <td>NaN</td>\n",
       "      <td>NaN</td>\n",
       "      <td>NaN</td>\n",
       "      <td>NaN</td>\n",
       "      <td>NaN</td>\n",
       "      <td>NaN</td>\n",
       "      <td>NaN</td>\n",
       "      <td>NaN</td>\n",
       "      <td>NaN</td>\n",
       "      <td>NaN</td>\n",
       "    </tr>\n",
       "    <tr>\n",
       "      <th>75%</th>\n",
       "      <td>18336.750000</td>\n",
       "      <td>NaN</td>\n",
       "      <td>NaN</td>\n",
       "      <td>NaN</td>\n",
       "      <td>NaN</td>\n",
       "      <td>NaN</td>\n",
       "      <td>NaN</td>\n",
       "      <td>NaN</td>\n",
       "      <td>NaN</td>\n",
       "      <td>NaN</td>\n",
       "      <td>NaN</td>\n",
       "      <td>NaN</td>\n",
       "      <td>NaN</td>\n",
       "      <td>NaN</td>\n",
       "      <td>NaN</td>\n",
       "    </tr>\n",
       "    <tr>\n",
       "      <th>max</th>\n",
       "      <td>93600.000000</td>\n",
       "      <td>902.000000</td>\n",
       "      <td>88.320000</td>\n",
       "      <td>100.000000</td>\n",
       "      <td>100.000000</td>\n",
       "      <td>38758.000000</td>\n",
       "      <td>95.600000</td>\n",
       "      <td>3100.000000</td>\n",
       "      <td>99.800000</td>\n",
       "      <td>7364.000000</td>\n",
       "      <td>123.600000</td>\n",
       "      <td>16500.000000</td>\n",
       "      <td>2400.000000</td>\n",
       "      <td>149.400000</td>\n",
       "      <td>250.000000</td>\n",
       "    </tr>\n",
       "  </tbody>\n",
       "</table>\n",
       "</div>"
      ],
      "text/plain": [
       "                 ID     Calories      Protein     TotalFat  Carbohydrate  \\\n",
       "count   7058.000000  7057.000000  7057.000000  7057.000000   7057.000000   \n",
       "mean   14259.821196   219.695338    11.710368    10.320614     20.697860   \n",
       "std     8577.179705   172.198755    10.919356    16.814191     27.630443   \n",
       "min     1001.000000     0.000000     0.000000     0.000000      0.000000   \n",
       "25%     8387.250000          NaN          NaN          NaN           NaN   \n",
       "50%    13293.500000          NaN          NaN          NaN           NaN   \n",
       "75%    18336.750000          NaN          NaN          NaN           NaN   \n",
       "max    93600.000000   902.000000    88.320000   100.000000    100.000000   \n",
       "\n",
       "             Sodium  SaturatedFat  Cholesterol        Sugar      Calcium  \\\n",
       "count   6974.000000   6757.000000  6770.000000  5148.000000  6922.000000   \n",
       "mean     322.059220      3.452267    41.551994     8.256540    73.530627   \n",
       "std     1045.416931      6.921267   122.963028    15.361509   222.445338   \n",
       "min        0.000000      0.000000     0.000000     0.000000     0.000000   \n",
       "25%             NaN           NaN          NaN          NaN          NaN   \n",
       "50%             NaN           NaN          NaN          NaN          NaN   \n",
       "75%             NaN           NaN          NaN          NaN          NaN   \n",
       "max    38758.000000     95.600000  3100.000000    99.800000  7364.000000   \n",
       "\n",
       "              Iron     Potassium     VitaminC     VitaminE     VitaminD  \n",
       "count  6935.000000   6649.000000  6726.000000  4338.000000  4224.000000  \n",
       "mean      2.828368    301.357949     9.435980     1.487462     0.576918  \n",
       "std       6.019878    415.638949    71.256536     5.386914     4.301147  \n",
       "min       0.000000      0.000000     0.000000     0.000000     0.000000  \n",
       "25%            NaN           NaN          NaN          NaN          NaN  \n",
       "50%            NaN           NaN          NaN          NaN          NaN  \n",
       "75%            NaN           NaN          NaN          NaN          NaN  \n",
       "max     123.600000  16500.000000  2400.000000   149.400000   250.000000  "
      ]
     },
     "execution_count": 5,
     "metadata": {},
     "output_type": "execute_result"
    }
   ],
   "source": [
    "#get the high level statistical information of the columns\n",
    "#study the Sodium variables particulary\n",
    "df.describe()"
   ]
  },
  {
   "cell_type": "code",
   "execution_count": 35,
   "metadata": {},
   "outputs": [
    {
     "name": "stdout",
     "output_type": "stream",
     "text": [
      "                 ID     Calories      Protein     TotalFat  Carbohydrate  \\\n",
      "count   3374.000000  3374.000000  3374.000000  3374.000000   3374.000000   \n",
      "mean   14459.826319   227.872851    10.927988    10.278094     24.112979   \n",
      "std     9788.759245   175.547423    10.872530    16.846157     29.383361   \n",
      "min     1001.000000     0.000000     0.000000     0.000000      0.000000   \n",
      "25%     8542.250000    82.000000     1.870000     0.440000      0.400000   \n",
      "50%    11845.500000   196.000000     7.110000     4.065000      9.245000   \n",
      "75%    18350.750000   354.000000    19.437500    12.537500     45.775000   \n",
      "max    93600.000000   902.000000    88.320000   100.000000    100.000000   \n",
      "\n",
      "             Sodium  SaturatedFat  Cholesterol        Sugar      Calcium  \\\n",
      "count   3374.000000   3374.000000  3374.000000  3374.000000  3374.000000   \n",
      "mean     358.066686      3.302648    32.241849     8.932771    88.838471   \n",
      "std     1288.628238      6.530023    91.910404    15.869214   273.214138   \n",
      "min        0.000000      0.000000     0.000000     0.000000     0.000000   \n",
      "25%       24.000000      0.081000     0.000000     0.000000    11.000000   \n",
      "50%       81.500000      1.005000     0.000000     1.710000    22.000000   \n",
      "75%      411.750000      3.951750    62.000000     9.207500    66.750000   \n",
      "max    38758.000000     93.966000  3100.000000    99.800000  7364.000000   \n",
      "\n",
      "              Iron     Potassium     VitaminC     VitaminE     VitaminD  \\\n",
      "count  3374.000000   3374.000000  3374.000000  3374.000000  3374.000000   \n",
      "mean      2.942134    309.946354    10.619146     1.415172     0.583402   \n",
      "std       6.507740    503.795307    79.192068     5.218549     2.104189   \n",
      "min       0.000000      0.000000     0.000000     0.000000     0.000000   \n",
      "25%       0.440000    126.250000     0.000000     0.110000     0.000000   \n",
      "50%       1.120000    235.000000     0.000000     0.270000     0.000000   \n",
      "75%       2.670000    347.000000     4.000000     0.770000     0.200000   \n",
      "max     123.600000  16500.000000  2400.000000   149.400000    28.100000   \n",
      "\n",
      "        HighSodium      HighFat  HighProtein    Highcarbs  \n",
      "count  3374.000000  3374.000000  3374.000000  3374.000000  \n",
      "mean      0.304979     0.295199     0.368702     0.355365  \n",
      "std       0.460467     0.456200     0.482524     0.478695  \n",
      "min       0.000000     0.000000     0.000000     0.000000  \n",
      "25%       0.000000     0.000000     0.000000     0.000000  \n",
      "50%       0.000000     0.000000     0.000000     0.000000  \n",
      "75%       1.000000     1.000000     1.000000     1.000000  \n",
      "max       1.000000     1.000000     1.000000     1.000000  \n",
      "***\n",
      "count     6974.000000\n",
      "mean       322.059220\n",
      "std       1045.416931\n",
      "min          0.000000\n",
      "25%         37.000000\n",
      "50%         79.000000\n",
      "75%        386.000000\n",
      "max      38758.000000\n",
      "Name: Sodium, dtype: float64\n"
     ]
    }
   ],
   "source": [
    "print(df.dropna().describe()) #I have removed the na temporarily to do a descriptive study of all columns\n",
    "#notice is i just run df.describe() it will give me nan for all coluns whihc ahs at least one nan\n",
    "\n",
    "#this is bcoz if any one value in a column is nan, mean & any quantile of it will be nan\n",
    "#try this\n",
    "#x=[2,3,5,6,np.nan] #find the mean & median of this x\n",
    "print('***')\n",
    "print(df['Sodium'].dropna().describe())"
   ]
  },
  {
   "cell_type": "code",
   "execution_count": 6,
   "metadata": {},
   "outputs": [],
   "source": [
    "#get the number of missing values in each column"
   ]
  },
  {
   "cell_type": "code",
   "execution_count": 7,
   "metadata": {},
   "outputs": [
    {
     "data": {
      "text/plain": [
       "ID                 0\n",
       "Description        0\n",
       "Calories           1\n",
       "Protein            1\n",
       "TotalFat           1\n",
       "Carbohydrate       1\n",
       "Sodium            84\n",
       "SaturatedFat     301\n",
       "Cholesterol      288\n",
       "Sugar           1910\n",
       "Calcium          136\n",
       "Iron             123\n",
       "Potassium        409\n",
       "VitaminC         332\n",
       "VitaminE        2720\n",
       "VitaminD        2834\n",
       "dtype: int64"
      ]
     },
     "execution_count": 7,
     "metadata": {},
     "output_type": "execute_result"
    }
   ],
   "source": [
    "df.isnull().sum()"
   ]
  },
  {
   "cell_type": "code",
   "execution_count": 8,
   "metadata": {},
   "outputs": [],
   "source": [
    "#which food (description column gives the food) corresponds to the maximum level of Sodium"
   ]
  },
  {
   "cell_type": "code",
   "execution_count": 9,
   "metadata": {},
   "outputs": [
    {
     "name": "stdout",
     "output_type": "stream",
     "text": [
      "38758.0\n",
      "\n",
      "\n"
     ]
    },
    {
     "data": {
      "text/plain": [
       "264    SALT,TABLE\n",
       "Name: Description, dtype: object"
      ]
     },
     "execution_count": 9,
     "metadata": {},
     "output_type": "execute_result"
    }
   ],
   "source": [
    "print(max(df['Sodium']))\n",
    "print('\\n')\n",
    "df[df['Sodium']==max(df['Sodium'])]['Description']"
   ]
  },
  {
   "cell_type": "code",
   "execution_count": 10,
   "metadata": {},
   "outputs": [],
   "source": [
    "#create  anew dataframe called High_sodium that has >10000 Sodium content"
   ]
  },
  {
   "cell_type": "code",
   "execution_count": 11,
   "metadata": {},
   "outputs": [],
   "source": [
    "High_sodium=df[df['Sodium']>10000]"
   ]
  },
  {
   "cell_type": "code",
   "execution_count": 12,
   "metadata": {},
   "outputs": [],
   "source": [
    "#how many food have High Sodium. print all their descriptions"
   ]
  },
  {
   "cell_type": "code",
   "execution_count": 13,
   "metadata": {},
   "outputs": [
    {
     "name": "stdout",
     "output_type": "stream",
     "text": [
      "264                                            SALT,TABLE\n",
      "921                     SOUP,BF BROTH OR BOUILLON,PDR,DRY\n",
      "922                             SOUP,BEEF BROTH,CUBED,DRY\n",
      "924                      SOUP,CHICK BROTH OR BOUILLON,DRY\n",
      "925                            SOUP,CHICK BROTH CUBES,DRY\n",
      "937                                      GRAVY,AU JUS,DRY\n",
      "1302                                         ADOBO FRESCO\n",
      "5320    LEAVENING AGENTS,BAKING PDR,DOUBLE-ACTING,NA A...\n",
      "5323                         LEAVENING AGENTS,BAKING SODA\n",
      "5697                      DESSERTS,RENNIN,TABLETS,UNSWTND\n",
      "Name: Description, dtype: object\n"
     ]
    }
   ],
   "source": [
    "print(High_sodium['Description'])"
   ]
  },
  {
   "cell_type": "code",
   "execution_count": 14,
   "metadata": {},
   "outputs": [],
   "source": [
    "#CAVIAR has very high sodium content. fidn which row has the food CAVIAR.\n",
    "#Also find how much sodium does it have"
   ]
  },
  {
   "cell_type": "code",
   "execution_count": 7,
   "metadata": {},
   "outputs": [
    {
     "data": {
      "text/html": [
       "<div>\n",
       "<table border=\"1\" class=\"dataframe\">\n",
       "  <thead>\n",
       "    <tr style=\"text-align: right;\">\n",
       "      <th></th>\n",
       "      <th>Sodium</th>\n",
       "      <th>Description</th>\n",
       "    </tr>\n",
       "  </thead>\n",
       "  <tbody>\n",
       "    <tr>\n",
       "      <th>4153</th>\n",
       "      <td>1500.0</td>\n",
       "      <td>CAVIAR</td>\n",
       "    </tr>\n",
       "  </tbody>\n",
       "</table>\n",
       "</div>"
      ],
      "text/plain": [
       "      Sodium Description\n",
       "4153  1500.0      CAVIAR"
      ]
     },
     "execution_count": 7,
     "metadata": {},
     "output_type": "execute_result"
    }
   ],
   "source": [
    "df[df['Description']=='CAVIAR'][['Sodium','Description']]"
   ]
  },
  {
   "cell_type": "code",
   "execution_count": 16,
   "metadata": {},
   "outputs": [],
   "source": [
    "#find mean of Sodium and SD of Sodium in original df"
   ]
  },
  {
   "cell_type": "code",
   "execution_count": 17,
   "metadata": {},
   "outputs": [
    {
     "name": "stdout",
     "output_type": "stream",
     "text": [
      "322.05921995985085\n"
     ]
    },
    {
     "data": {
      "text/plain": [
       "1045.3419774434096"
      ]
     },
     "execution_count": 17,
     "metadata": {},
     "output_type": "execute_result"
    }
   ],
   "source": [
    "print(np.mean(df['Sodium']))\n",
    "np.std(df['Sodium'])"
   ]
  },
  {
   "cell_type": "code",
   "execution_count": 18,
   "metadata": {},
   "outputs": [],
   "source": [
    "#plot a scatter of Protein vs Totalfat . add red color to the points"
   ]
  },
  {
   "cell_type": "code",
   "execution_count": 9,
   "metadata": {},
   "outputs": [
    {
     "data": {
      "text/plain": [
       "<matplotlib.text.Text at 0x10267780>"
      ]
     },
     "execution_count": 9,
     "metadata": {},
     "output_type": "execute_result"
    },
    {
     "data": {
      "image/png": "[encoded data removed]",
      "text/plain": [
       "<matplotlib.figure.Figure at 0xf56d748>"
      ]
     },
     "metadata": {},
     "output_type": "display_data"
    }
   ],
   "source": [
    "import matplotlib.pyplot as plt\n",
    "%matplotlib inline\n",
    "plt.scatter(df['Protein'],df['TotalFat'],c=\"red\");\n",
    "plt.xlabel(\"Protein\")\n",
    "plt.ylabel(\"Total Fat\")"
   ]
  },
  {
   "cell_type": "code",
   "execution_count": 20,
   "metadata": {},
   "outputs": [],
   "source": [
    "#plot a histogram of Vitamon C levels.\n",
    "#zoom into the histogram from 0 till 100. hint xlim=c(0,100)\n",
    "#play witht the bins parameter to make a good histomgram"
   ]
  },
  {
   "cell_type": "code",
   "execution_count": 37,
   "metadata": {},
   "outputs": [
    {
     "data": {
      "image/png": "[encoded data removed]",
      "text/plain": [
       "<Figure size 432x288 with 1 Axes>"
      ]
     },
     "metadata": {},
     "output_type": "display_data"
    }
   ],
   "source": [
    "plt.hist(df['Carbohydrate'].dropna(),bins=50,color=\"red\");#drop na and then plot... try without droping and see what happens\n",
    "#https://stackoverflow.com/questions/20656663/matplotlib-pandas-error-using-histogram"
   ]
  },
  {
   "cell_type": "code",
   "execution_count": 22,
   "metadata": {},
   "outputs": [],
   "source": [
    "#create a normal boxplot of Sugar. What do you observe"
   ]
  },
  {
   "cell_type": "code",
   "execution_count": 10,
   "metadata": {},
   "outputs": [
    {
     "data": {
      "image/png": "[encoded data removed]",
      "text/plain": [
       "<matplotlib.figure.Figure at 0xf3065c0>"
      ]
     },
     "metadata": {},
     "output_type": "display_data"
    }
   ],
   "source": [
    "plt.boxplot(df['Sugar']);"
   ]
  },
  {
   "cell_type": "code",
   "execution_count": 24,
   "metadata": {},
   "outputs": [],
   "source": [
    "#add a new variable/column called high sodium and make ot 1 of its\n",
    "#> avergae Sodium and =0 if its<=mean(Sodium)."
   ]
  },
  {
   "cell_type": "code",
   "execution_count": 11,
   "metadata": {},
   "outputs": [
    {
     "data": {
      "text/html": [
       "<div>\n",
       "<table border=\"1\" class=\"dataframe\">\n",
       "  <thead>\n",
       "    <tr style=\"text-align: right;\">\n",
       "      <th></th>\n",
       "      <th>ID</th>\n",
       "      <th>Description</th>\n",
       "      <th>Calories</th>\n",
       "      <th>Protein</th>\n",
       "      <th>TotalFat</th>\n",
       "      <th>Carbohydrate</th>\n",
       "      <th>Sodium</th>\n",
       "      <th>SaturatedFat</th>\n",
       "      <th>Cholesterol</th>\n",
       "      <th>Sugar</th>\n",
       "      <th>Calcium</th>\n",
       "      <th>Iron</th>\n",
       "      <th>Potassium</th>\n",
       "      <th>VitaminC</th>\n",
       "      <th>VitaminE</th>\n",
       "      <th>VitaminD</th>\n",
       "      <th>HighSodium</th>\n",
       "    </tr>\n",
       "  </thead>\n",
       "  <tbody>\n",
       "    <tr>\n",
       "      <th>0</th>\n",
       "      <td>1001</td>\n",
       "      <td>BUTTER,WITH SALT</td>\n",
       "      <td>717.0</td>\n",
       "      <td>0.85</td>\n",
       "      <td>81.11</td>\n",
       "      <td>0.06</td>\n",
       "      <td>714.0</td>\n",
       "      <td>51.368</td>\n",
       "      <td>215.0</td>\n",
       "      <td>0.06</td>\n",
       "      <td>24.0</td>\n",
       "      <td>0.02</td>\n",
       "      <td>24.0</td>\n",
       "      <td>0.0</td>\n",
       "      <td>2.32</td>\n",
       "      <td>1.5</td>\n",
       "      <td>1</td>\n",
       "    </tr>\n",
       "    <tr>\n",
       "      <th>1</th>\n",
       "      <td>1002</td>\n",
       "      <td>BUTTER,WHIPPED,WITH SALT</td>\n",
       "      <td>717.0</td>\n",
       "      <td>0.85</td>\n",
       "      <td>81.11</td>\n",
       "      <td>0.06</td>\n",
       "      <td>827.0</td>\n",
       "      <td>50.489</td>\n",
       "      <td>219.0</td>\n",
       "      <td>0.06</td>\n",
       "      <td>24.0</td>\n",
       "      <td>0.16</td>\n",
       "      <td>26.0</td>\n",
       "      <td>0.0</td>\n",
       "      <td>2.32</td>\n",
       "      <td>1.5</td>\n",
       "      <td>1</td>\n",
       "    </tr>\n",
       "    <tr>\n",
       "      <th>2</th>\n",
       "      <td>1003</td>\n",
       "      <td>BUTTER OIL,ANHYDROUS</td>\n",
       "      <td>876.0</td>\n",
       "      <td>0.28</td>\n",
       "      <td>99.48</td>\n",
       "      <td>0.00</td>\n",
       "      <td>2.0</td>\n",
       "      <td>61.924</td>\n",
       "      <td>256.0</td>\n",
       "      <td>0.00</td>\n",
       "      <td>4.0</td>\n",
       "      <td>0.00</td>\n",
       "      <td>5.0</td>\n",
       "      <td>0.0</td>\n",
       "      <td>2.80</td>\n",
       "      <td>1.8</td>\n",
       "      <td>0</td>\n",
       "    </tr>\n",
       "    <tr>\n",
       "      <th>3</th>\n",
       "      <td>1004</td>\n",
       "      <td>CHEESE,BLUE</td>\n",
       "      <td>353.0</td>\n",
       "      <td>21.40</td>\n",
       "      <td>28.74</td>\n",
       "      <td>2.34</td>\n",
       "      <td>1395.0</td>\n",
       "      <td>18.669</td>\n",
       "      <td>75.0</td>\n",
       "      <td>0.50</td>\n",
       "      <td>528.0</td>\n",
       "      <td>0.31</td>\n",
       "      <td>256.0</td>\n",
       "      <td>0.0</td>\n",
       "      <td>0.25</td>\n",
       "      <td>0.5</td>\n",
       "      <td>1</td>\n",
       "    </tr>\n",
       "    <tr>\n",
       "      <th>4</th>\n",
       "      <td>1005</td>\n",
       "      <td>CHEESE,BRICK</td>\n",
       "      <td>371.0</td>\n",
       "      <td>23.24</td>\n",
       "      <td>29.68</td>\n",
       "      <td>2.79</td>\n",
       "      <td>560.0</td>\n",
       "      <td>18.764</td>\n",
       "      <td>94.0</td>\n",
       "      <td>0.51</td>\n",
       "      <td>674.0</td>\n",
       "      <td>0.43</td>\n",
       "      <td>136.0</td>\n",
       "      <td>0.0</td>\n",
       "      <td>0.26</td>\n",
       "      <td>0.5</td>\n",
       "      <td>1</td>\n",
       "    </tr>\n",
       "  </tbody>\n",
       "</table>\n",
       "</div>"
      ],
      "text/plain": [
       "     ID               Description  Calories  Protein  TotalFat  Carbohydrate  \\\n",
       "0  1001          BUTTER,WITH SALT     717.0     0.85     81.11          0.06   \n",
       "1  1002  BUTTER,WHIPPED,WITH SALT     717.0     0.85     81.11          0.06   \n",
       "2  1003      BUTTER OIL,ANHYDROUS     876.0     0.28     99.48          0.00   \n",
       "3  1004               CHEESE,BLUE     353.0    21.40     28.74          2.34   \n",
       "4  1005              CHEESE,BRICK     371.0    23.24     29.68          2.79   \n",
       "\n",
       "   Sodium  SaturatedFat  Cholesterol  Sugar  Calcium  Iron  Potassium  \\\n",
       "0   714.0        51.368        215.0   0.06     24.0  0.02       24.0   \n",
       "1   827.0        50.489        219.0   0.06     24.0  0.16       26.0   \n",
       "2     2.0        61.924        256.0   0.00      4.0  0.00        5.0   \n",
       "3  1395.0        18.669         75.0   0.50    528.0  0.31      256.0   \n",
       "4   560.0        18.764         94.0   0.51    674.0  0.43      136.0   \n",
       "\n",
       "   VitaminC  VitaminE  VitaminD  HighSodium  \n",
       "0       0.0      2.32       1.5           1  \n",
       "1       0.0      2.32       1.5           1  \n",
       "2       0.0      2.80       1.8           0  \n",
       "3       0.0      0.25       0.5           1  \n",
       "4       0.0      0.26       0.5           1  "
      ]
     },
     "execution_count": 11,
     "metadata": {},
     "output_type": "execute_result"
    }
   ],
   "source": [
    "df['HighSodium']=[1 if i > np.mean(df['Sodium']) else 0 for i in df['Sodium']]\n",
    "#check if the above worked\n",
    "df.head()#yeah...guess what is the head function doig...  there is a similar one caleed tail..try it"
   ]
  },
  {
   "cell_type": "code",
   "execution_count": 26,
   "metadata": {},
   "outputs": [],
   "source": [
    "#similarly for High Fat, high Protein , High TotalFat & high carbs"
   ]
  },
  {
   "cell_type": "code",
   "execution_count": 27,
   "metadata": {},
   "outputs": [],
   "source": [
    "df['HighFat']=[1 if i > np.mean(df['TotalFat']) else 0 for i in df['TotalFat']]\n",
    "df['HighProtein']=[1 if i > np.mean(df['Protein']) else 0 for i in df['Protein']]\n",
    "df['Highcarbs']=[1 if i > np.mean(df['Carbohydrate']) else 0 for i in df['Carbohydrate']]"
   ]
  },
  {
   "cell_type": "code",
   "execution_count": 28,
   "metadata": {},
   "outputs": [],
   "source": [
    "#find how many foods have high Sodium levels using the new variable that you createe"
   ]
  },
  {
   "cell_type": "code",
   "execution_count": 29,
   "metadata": {},
   "outputs": [
    {
     "name": "stdout",
     "output_type": "stream",
     "text": [
      "0    4968\n",
      "1    2090\n",
      "Name: HighSodium, dtype: int64\n"
     ]
    },
    {
     "data": {
      "text/plain": [
       "Counter({1: 2090, 0: 4968})"
      ]
     },
     "execution_count": 29,
     "metadata": {},
     "output_type": "execute_result"
    }
   ],
   "source": [
    "print(df['HighSodium'].value_counts())\n",
    "#or\n",
    "from collections import Counter\n",
    "Counter(df['HighSodium'])"
   ]
  },
  {
   "cell_type": "code",
   "execution_count": 30,
   "metadata": {},
   "outputs": [],
   "source": [
    "#find how mnay have both high sodium and high toatl fat (hint use table function)\n",
    "#Compute the average amount of iron for both high and low protein foods\n",
    "#hint use groupby"
   ]
  },
  {
   "cell_type": "code",
   "execution_count": 31,
   "metadata": {},
   "outputs": [
    {
     "name": "stdout",
     "output_type": "stream",
     "text": [
      "HighFat        0     1\n",
      "HighSodium            \n",
      "0           3596  1372\n",
      "1           1378   712\n"
     ]
    },
    {
     "data": {
      "text/plain": [
       "HighProtein\n",
       "0    2.558945\n",
       "1    3.197294\n",
       "Name: Iron, dtype: float64"
      ]
     },
     "execution_count": 31,
     "metadata": {},
     "output_type": "execute_result"
    }
   ],
   "source": [
    "print(pd.crosstab(df['HighSodium'],df['HighFat']))\n",
    "df.groupby('HighProtein')['Iron'].mean()"
   ]
  },
  {
   "cell_type": "code",
   "execution_count": 32,
   "metadata": {},
   "outputs": [],
   "source": [
    "#Do foods with high carbs have low Vitamic C. How will you infer this..\n",
    "#hint use groupby and describe together"
   ]
  },
  {
   "cell_type": "code",
   "execution_count": 33,
   "metadata": {},
   "outputs": [
    {
     "name": "stdout",
     "output_type": "stream",
     "text": [
      "            count       mean         std  min  25%  50%   75%     max\n",
      "Highcarbs                                                            \n",
      "0          2175.0   6.150943   17.187453  0.0  0.0  0.0  3.65   242.5\n",
      "1          1199.0  18.724520  130.457538  0.0  0.0  0.2  5.25  2400.0\n"
     ]
    }
   ],
   "source": [
    "print(df.dropna().groupby('Highcarbs')['VitaminC'].describe())# ansswer is NOOO"
   ]
  },
  {
   "cell_type": "code",
   "execution_count": 34,
   "metadata": {},
   "outputs": [],
   "source": [
    "#stay healthy guys... eat the right food..."
   ]
  },
  {
   "cell_type": "code",
   "execution_count": 2,
   "metadata": {},
   "outputs": [],
   "source": [
    "#All codes are available at https://github.com/MyDataCafe/\n",
    "#All Class Videos are at https://www.youtube.com/mydatacafe\n",
    "#We are on Facebook https://www.facebook.com/mydatacafe/\n",
    "#We are on LinkedIn https://www.linkedin.com/company/mydatacafe/"
   ]
  },
  {
   "cell_type": "code",
   "execution_count": null,
   "metadata": {},
   "outputs": [],
   "source": []
  }
 ],
 "metadata": {
  "anaconda-cloud": {},
  "kernelspec": {
   "display_name": "Python 3",
   "language": "python",
   "name": "python3"
  },
  "language_info": {
   "codemirror_mode": {
    "name": "ipython",
    "version": 3
   },
   "file_extension": ".py",
   "mimetype": "text/x-python",
   "name": "python",
   "nbconvert_exporter": "python",
   "pygments_lexer": "ipython3",
   "version": "3.6.5"
  }
 },
 "nbformat": 4,
 "nbformat_minor": 1
}

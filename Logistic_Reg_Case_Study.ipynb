{
 "cells": [
  {
   "cell_type": "markdown",
   "metadata": {},
   "source": [
    "# LOGISTIC REGRESSION CASE STUDY"
   ]
  },
  {
   "cell_type": "code",
   "execution_count": 40,
   "metadata": {},
   "outputs": [],
   "source": [
    "import numpy as np\n",
    "import pandas as pd\n",
    "import matplotlib.pyplot as plt"
   ]
  },
  {
   "cell_type": "markdown",
   "metadata": {},
   "source": [
    "# Data Description"
   ]
  },
  {
   "cell_type": "code",
   "execution_count": 41,
   "metadata": {},
   "outputs": [],
   "source": [
    "# MemberID numbers the patients from 1 to 131, and is just an identifying number.\n",
    "# InpatientDays is the number of inpatient visits, or number of days the person spent in the hospital.\n",
    "# ERVisits is the number of times the patient visited the emergency room.\n",
    "# OfficeVisits is the number of times the patient visited any doctor’s office.\n",
    "# Narcotics is the number of prescriptions the patient had for narcotics.\n",
    "# DaysSinceLastERVisit is the number of days between the patient’s last emergency room visit \n",
    "# Pain is the number of visits for which the patient complained about pain.\n",
    "# TotalVisits is the total number of times the patient visited any healthcare provider.\n",
    "# ProviderCount is the number of providers that served the patient.\n",
    "# MedicalClaims is the number of days on which the patient had a medical claim.\n",
    "# ClaimLines is the total number of medical claims.\n",
    "# StartedOnCombination is whether or not the patient was started on a combination of drugs to treat their diabetes (TRUE or FALSE).\n",
    "# AcuteDrugGapSmall is the fraction of acute drugs that were refilled quickly after the prescription ran out.\n",
    "# PoorCare is the outcome or dependent variable, and is equal to 1 if the patient had poor care, and equal to 0 if the patient had good care."
   ]
  },
  {
   "cell_type": "code",
   "execution_count": 42,
   "metadata": {},
   "outputs": [],
   "source": [
    "df=pd.read_csv(\"quality.csv\")#read the csv into python"
   ]
  },
  {
   "cell_type": "code",
   "execution_count": 43,
   "metadata": {},
   "outputs": [
    {
     "data": {
      "text/html": [
       "<div>\n",
       "<style scoped>\n",
       "    .dataframe tbody tr th:only-of-type {\n",
       "        vertical-align: middle;\n",
       "    }\n",
       "\n",
       "    .dataframe tbody tr th {\n",
       "        vertical-align: top;\n",
       "    }\n",
       "\n",
       "    .dataframe thead th {\n",
       "        text-align: right;\n",
       "    }\n",
       "</style>\n",
       "<table border=\"1\" class=\"dataframe\">\n",
       "  <thead>\n",
       "    <tr style=\"text-align: right;\">\n",
       "      <th></th>\n",
       "      <th>MemberID</th>\n",
       "      <th>InpatientDays</th>\n",
       "      <th>ERVisits</th>\n",
       "      <th>OfficeVisits</th>\n",
       "      <th>Narcotics</th>\n",
       "      <th>DaysSinceLastERVisit</th>\n",
       "      <th>Pain</th>\n",
       "      <th>TotalVisits</th>\n",
       "      <th>ProviderCount</th>\n",
       "      <th>MedicalClaims</th>\n",
       "      <th>ClaimLines</th>\n",
       "      <th>StartedOnCombination</th>\n",
       "      <th>AcuteDrugGapSmall</th>\n",
       "      <th>PoorCare</th>\n",
       "    </tr>\n",
       "  </thead>\n",
       "  <tbody>\n",
       "    <tr>\n",
       "      <th>0</th>\n",
       "      <td>1</td>\n",
       "      <td>0</td>\n",
       "      <td>0</td>\n",
       "      <td>18</td>\n",
       "      <td>1</td>\n",
       "      <td>731.0</td>\n",
       "      <td>10</td>\n",
       "      <td>18</td>\n",
       "      <td>21</td>\n",
       "      <td>93</td>\n",
       "      <td>222</td>\n",
       "      <td>False</td>\n",
       "      <td>0</td>\n",
       "      <td>0</td>\n",
       "    </tr>\n",
       "    <tr>\n",
       "      <th>1</th>\n",
       "      <td>2</td>\n",
       "      <td>1</td>\n",
       "      <td>1</td>\n",
       "      <td>6</td>\n",
       "      <td>1</td>\n",
       "      <td>411.0</td>\n",
       "      <td>0</td>\n",
       "      <td>8</td>\n",
       "      <td>27</td>\n",
       "      <td>19</td>\n",
       "      <td>115</td>\n",
       "      <td>False</td>\n",
       "      <td>1</td>\n",
       "      <td>0</td>\n",
       "    </tr>\n",
       "    <tr>\n",
       "      <th>2</th>\n",
       "      <td>3</td>\n",
       "      <td>0</td>\n",
       "      <td>0</td>\n",
       "      <td>5</td>\n",
       "      <td>3</td>\n",
       "      <td>731.0</td>\n",
       "      <td>10</td>\n",
       "      <td>5</td>\n",
       "      <td>16</td>\n",
       "      <td>27</td>\n",
       "      <td>148</td>\n",
       "      <td>False</td>\n",
       "      <td>5</td>\n",
       "      <td>0</td>\n",
       "    </tr>\n",
       "    <tr>\n",
       "      <th>3</th>\n",
       "      <td>4</td>\n",
       "      <td>0</td>\n",
       "      <td>1</td>\n",
       "      <td>19</td>\n",
       "      <td>0</td>\n",
       "      <td>158.0</td>\n",
       "      <td>34</td>\n",
       "      <td>20</td>\n",
       "      <td>14</td>\n",
       "      <td>59</td>\n",
       "      <td>242</td>\n",
       "      <td>False</td>\n",
       "      <td>0</td>\n",
       "      <td>0</td>\n",
       "    </tr>\n",
       "    <tr>\n",
       "      <th>4</th>\n",
       "      <td>5</td>\n",
       "      <td>8</td>\n",
       "      <td>2</td>\n",
       "      <td>19</td>\n",
       "      <td>3</td>\n",
       "      <td>449.0</td>\n",
       "      <td>10</td>\n",
       "      <td>29</td>\n",
       "      <td>24</td>\n",
       "      <td>51</td>\n",
       "      <td>204</td>\n",
       "      <td>False</td>\n",
       "      <td>0</td>\n",
       "      <td>0</td>\n",
       "    </tr>\n",
       "  </tbody>\n",
       "</table>\n",
       "</div>"
      ],
      "text/plain": [
       "   MemberID  InpatientDays  ERVisits  OfficeVisits  Narcotics  \\\n",
       "0         1              0         0            18          1   \n",
       "1         2              1         1             6          1   \n",
       "2         3              0         0             5          3   \n",
       "3         4              0         1            19          0   \n",
       "4         5              8         2            19          3   \n",
       "\n",
       "   DaysSinceLastERVisit  Pain  TotalVisits  ProviderCount  MedicalClaims  \\\n",
       "0                 731.0    10           18             21             93   \n",
       "1                 411.0     0            8             27             19   \n",
       "2                 731.0    10            5             16             27   \n",
       "3                 158.0    34           20             14             59   \n",
       "4                 449.0    10           29             24             51   \n",
       "\n",
       "   ClaimLines  StartedOnCombination  AcuteDrugGapSmall  PoorCare  \n",
       "0         222                 False                  0         0  \n",
       "1         115                 False                  1         0  \n",
       "2         148                 False                  5         0  \n",
       "3         242                 False                  0         0  \n",
       "4         204                 False                  0         0  "
      ]
     },
     "execution_count": 43,
     "metadata": {},
     "output_type": "execute_result"
    }
   ],
   "source": [
    "df.head()"
   ]
  },
  {
   "cell_type": "code",
   "execution_count": 44,
   "metadata": {},
   "outputs": [
    {
     "data": {
      "text/plain": [
       "Index(['MemberID', 'InpatientDays', 'ERVisits', 'OfficeVisits', 'Narcotics',\n",
       "       'DaysSinceLastERVisit', 'Pain', 'TotalVisits', 'ProviderCount',\n",
       "       'MedicalClaims', 'ClaimLines', 'StartedOnCombination',\n",
       "       'AcuteDrugGapSmall', 'PoorCare'],\n",
       "      dtype='object')"
      ]
     },
     "execution_count": 44,
     "metadata": {},
     "output_type": "execute_result"
    }
   ],
   "source": [
    "df.columns#lets look at the columns"
   ]
  },
  {
   "cell_type": "code",
   "execution_count": 45,
   "metadata": {},
   "outputs": [
    {
     "data": {
      "text/plain": [
       "0    98\n",
       "1    33\n",
       "Name: PoorCare, dtype: int64"
      ]
     },
     "execution_count": 45,
     "metadata": {},
     "output_type": "execute_result"
    }
   ],
   "source": [
    "#proportion of 1;s and 0's\n",
    "df['PoorCare'].value_counts()\n",
    "#So a baseline model will always predict 0 and its accuracy will be\n",
    "# 98/(98+33)=  74.8%\n",
    "#so out logistic regression should score more than this .."
   ]
  },
  {
   "cell_type": "markdown",
   "metadata": {},
   "source": [
    "# Exploratory Data Analysis"
   ]
  },
  {
   "cell_type": "code",
   "execution_count": 46,
   "metadata": {},
   "outputs": [
    {
     "data": {
      "text/plain": [
       "<seaborn.axisgrid.PairGrid at 0x29a3dd0d4e0>"
      ]
     },
     "execution_count": 46,
     "metadata": {},
     "output_type": "execute_result"
    },
    {
     "data": {
      "image/png": "[encoded data removed]",
      "text/plain": [
       "<Figure size 413.375x360 with 6 Axes>"
      ]
     },
     "metadata": {},
     "output_type": "display_data"
    }
   ],
   "source": [
    "#BIVARIATE ANALYSIS\n",
    "#lets Analyse the Column InpatientDays wrt the DV Poor Care\n",
    "#Inpatient Days is a Continuous Independent variable\n",
    "#so lets draw a histogram and color it on basis of the DV\n",
    "import seaborn as sns\n",
    "%matplotlib inline\n",
    "sns.pairplot(df[[\"InpatientDays\",\"PoorCare\"]],hue=\"PoorCare\")\n",
    "#if we see the first plot carefully, both colors 0 and 1 appear in all of the bars..\n",
    "#if we had any bar of one single color, we could make use of it to predict PoorCare\n",
    "#hence this variable doesnt look to be significant"
   ]
  },
  {
   "cell_type": "code",
   "execution_count": 47,
   "metadata": {},
   "outputs": [],
   "source": [
    "#I did the same as above with ERVisits, OfficeVisits,\n",
    "#ProviderCount, MedicalClaims, ClaimLines,AcuteDrugGapSmall. The plots for these too did not seem\n",
    "#very interesting."
   ]
  },
  {
   "cell_type": "code",
   "execution_count": 48,
   "metadata": {},
   "outputs": [
    {
     "data": {
      "text/plain": [
       "<seaborn.axisgrid.PairGrid at 0x29a3e505860>"
      ]
     },
     "execution_count": 48,
     "metadata": {},
     "output_type": "execute_result"
    },
    {
     "data": {
      "image/png": "[encoded data removed]",
      "text/plain": [
       "<Figure size 413.375x360 with 6 Axes>"
      ]
     },
     "metadata": {},
     "output_type": "display_data"
    }
   ],
   "source": [
    "#lets try DaysSinceLastERVisit\n",
    "sns.pairplot(df[[\"DaysSinceLastERVisit\",\"PoorCare\"]],hue=\"PoorCare\")\n",
    "#This plot looks interesting as the 3rd, 6th to 9th bar are purely 0;s. This is what we were loking for .\n",
    "#it seems this variable maybe inportant. Lets keep it for including in our model\n",
    "#Similarly I found --> Narcotics, Pain, TotalVisit to be somewhat significant.\n",
    "#this might be difficult sometime, hence we will also have a look at the P vlaues to confirm that\n",
    "#these variables are significant"
   ]
  },
  {
   "cell_type": "code",
   "execution_count": 49,
   "metadata": {},
   "outputs": [
    {
     "data": {
      "text/html": [
       "<div>\n",
       "<style scoped>\n",
       "    .dataframe tbody tr th:only-of-type {\n",
       "        vertical-align: middle;\n",
       "    }\n",
       "\n",
       "    .dataframe tbody tr th {\n",
       "        vertical-align: top;\n",
       "    }\n",
       "\n",
       "    .dataframe thead th {\n",
       "        text-align: right;\n",
       "    }\n",
       "</style>\n",
       "<table border=\"1\" class=\"dataframe\">\n",
       "  <thead>\n",
       "    <tr style=\"text-align: right;\">\n",
       "      <th></th>\n",
       "      <th>Narcotics</th>\n",
       "      <th>DaysSinceLastERVisit</th>\n",
       "      <th>Pain</th>\n",
       "      <th>TotalVisits</th>\n",
       "    </tr>\n",
       "  </thead>\n",
       "  <tbody>\n",
       "    <tr>\n",
       "      <th>Narcotics</th>\n",
       "      <td>1.000000</td>\n",
       "      <td>0.065055</td>\n",
       "      <td>0.106860</td>\n",
       "      <td>0.163992</td>\n",
       "    </tr>\n",
       "    <tr>\n",
       "      <th>DaysSinceLastERVisit</th>\n",
       "      <td>0.065055</td>\n",
       "      <td>1.000000</td>\n",
       "      <td>-0.358781</td>\n",
       "      <td>-0.344640</td>\n",
       "    </tr>\n",
       "    <tr>\n",
       "      <th>Pain</th>\n",
       "      <td>0.106860</td>\n",
       "      <td>-0.358781</td>\n",
       "      <td>1.000000</td>\n",
       "      <td>0.482959</td>\n",
       "    </tr>\n",
       "    <tr>\n",
       "      <th>TotalVisits</th>\n",
       "      <td>0.163992</td>\n",
       "      <td>-0.344640</td>\n",
       "      <td>0.482959</td>\n",
       "      <td>1.000000</td>\n",
       "    </tr>\n",
       "  </tbody>\n",
       "</table>\n",
       "</div>"
      ],
      "text/plain": [
       "                      Narcotics  DaysSinceLastERVisit      Pain  TotalVisits\n",
       "Narcotics              1.000000              0.065055  0.106860     0.163992\n",
       "DaysSinceLastERVisit   0.065055              1.000000 -0.358781    -0.344640\n",
       "Pain                   0.106860             -0.358781  1.000000     0.482959\n",
       "TotalVisits            0.163992             -0.344640  0.482959     1.000000"
      ]
     },
     "execution_count": 49,
     "metadata": {},
     "output_type": "execute_result"
    }
   ],
   "source": [
    "#but since these variables DaysSinceLastERVisit, Narcotics, Pain, TotalVisit are \n",
    "#continuous We might have to check for multicollinearity.\n",
    "#only if these are not corelated we can use them in Modeling\n",
    "#lets select these columns by their indexes\n",
    "df.iloc[:,[4,5,6,7]].corr()\n",
    "#No significant co-relation observed."
   ]
  },
  {
   "cell_type": "code",
   "execution_count": 50,
   "metadata": {},
   "outputs": [],
   "source": [
    "#StartedOnCombination is a categorical variable taking only True and False\n",
    "#this is a case of both DV and IV being Categorical. We can study this by a pLot or by a cross tab\n",
    "pd.crosstab(df['PoorCare'],df['StartedOnCombination'])\n",
    "# this means that if StartedOnCombination is True for any patient, he must have received POOR\n",
    "#Care sicne 5 f them received Poor Care and Only 1 received Good Care.\n",
    "#so this variable is also Significant.\n",
    "#lets use this variable as well in our Model\n",
    "# but we will have to convert it to dummy variable as this is categorical\n",
    "# TO read more about this..watch the LINEAR REGRESSION CASE STUDY VIDEO.\n",
    "#IT has details on DUMMY VARIABLES concept and codes\n",
    "temp=pd.get_dummies(df['StartedOnCombination'],drop_first=True)\n",
    "#merge this with original dataset\n",
    "df_final=pd.concat([df,temp],axis=1)\n",
    "#We no longer need the original StartedOnCombination as we have created dummies for it,\n",
    "#so lets delete this StartedOnCombination from the df_final\n",
    "df_final=df_final.drop(['StartedOnCombination'],axis=1)\n",
    "#print df_final.columns # this tells us that the dummy variable created for StartOnCombination \n",
    "# is named True. We will add this to our model"
   ]
  },
  {
   "cell_type": "markdown",
   "metadata": {},
   "source": [
    "# Model Building"
   ]
  },
  {
   "cell_type": "code",
   "execution_count": 51,
   "metadata": {},
   "outputs": [],
   "source": [
    "#lets start buliding the model\n",
    "from sklearn.linear_model import LogisticRegression"
   ]
  },
  {
   "cell_type": "code",
   "execution_count": 52,
   "metadata": {},
   "outputs": [],
   "source": [
    "log_reg=LogisticRegression(C = 1e9)  # C=1e9 is added for some complex reason.. Memorize this."
   ]
  },
  {
   "cell_type": "code",
   "execution_count": 53,
   "metadata": {},
   "outputs": [],
   "source": [
    "#similar to what we do n Linear regression we split the data into 2 parts..\n",
    "# And define the DV and IVs.\n",
    "from sklearn.cross_validation import train_test_split\n",
    "X_train, X_test, y_train, y_test = train_test_split(df_final[[\"DaysSinceLastERVisit\",\"Narcotics\",\"Pain\",\"TotalVisits\",True]],df_final['PoorCare'],test_size=0.3,random_state=1)"
   ]
  },
  {
   "cell_type": "code",
   "execution_count": 54,
   "metadata": {},
   "outputs": [
    {
     "data": {
      "text/html": [
       "<div>\n",
       "<style scoped>\n",
       "    .dataframe tbody tr th:only-of-type {\n",
       "        vertical-align: middle;\n",
       "    }\n",
       "\n",
       "    .dataframe tbody tr th {\n",
       "        vertical-align: top;\n",
       "    }\n",
       "\n",
       "    .dataframe thead th {\n",
       "        text-align: right;\n",
       "    }\n",
       "</style>\n",
       "<table border=\"1\" class=\"dataframe\">\n",
       "  <thead>\n",
       "    <tr style=\"text-align: right;\">\n",
       "      <th>col_0</th>\n",
       "      <th>0</th>\n",
       "      <th>1</th>\n",
       "    </tr>\n",
       "    <tr>\n",
       "      <th>PoorCare</th>\n",
       "      <th></th>\n",
       "      <th></th>\n",
       "    </tr>\n",
       "  </thead>\n",
       "  <tbody>\n",
       "    <tr>\n",
       "      <th>0</th>\n",
       "      <td>70</td>\n",
       "      <td>1</td>\n",
       "    </tr>\n",
       "    <tr>\n",
       "      <th>1</th>\n",
       "      <td>11</td>\n",
       "      <td>9</td>\n",
       "    </tr>\n",
       "  </tbody>\n",
       "</table>\n",
       "</div>"
      ],
      "text/plain": [
       "col_0      0  1\n",
       "PoorCare       \n",
       "0         70  1\n",
       "1         11  9"
      ]
     },
     "execution_count": 54,
     "metadata": {},
     "output_type": "execute_result"
    }
   ],
   "source": [
    "#predict on train data\n",
    "log_reg.fit(X_train,y_train)\n",
    "pred_train=log_reg.predict(X_train)\n",
    "pd.crosstab(y_train,pred_train)\n",
    "#accuracy=(70+9)/(70+9+11+1)\n",
    "#accuracy=86% on training data"
   ]
  },
  {
   "cell_type": "code",
   "execution_count": 55,
   "metadata": {},
   "outputs": [],
   "source": [
    "pred=log_reg.predict(X_test)#to get the output as 1's and 0's\n",
    "#by assuming t=0.5"
   ]
  },
  {
   "cell_type": "code",
   "execution_count": 56,
   "metadata": {},
   "outputs": [
    {
     "data": {
      "text/html": [
       "<div>\n",
       "<style scoped>\n",
       "    .dataframe tbody tr th:only-of-type {\n",
       "        vertical-align: middle;\n",
       "    }\n",
       "\n",
       "    .dataframe tbody tr th {\n",
       "        vertical-align: top;\n",
       "    }\n",
       "\n",
       "    .dataframe thead th {\n",
       "        text-align: right;\n",
       "    }\n",
       "</style>\n",
       "<table border=\"1\" class=\"dataframe\">\n",
       "  <thead>\n",
       "    <tr style=\"text-align: right;\">\n",
       "      <th>col_0</th>\n",
       "      <th>0</th>\n",
       "      <th>1</th>\n",
       "    </tr>\n",
       "    <tr>\n",
       "      <th>PoorCare</th>\n",
       "      <th></th>\n",
       "      <th></th>\n",
       "    </tr>\n",
       "  </thead>\n",
       "  <tbody>\n",
       "    <tr>\n",
       "      <th>0</th>\n",
       "      <td>23</td>\n",
       "      <td>4</td>\n",
       "    </tr>\n",
       "    <tr>\n",
       "      <th>1</th>\n",
       "      <td>6</td>\n",
       "      <td>7</td>\n",
       "    </tr>\n",
       "  </tbody>\n",
       "</table>\n",
       "</div>"
      ],
      "text/plain": [
       "col_0      0  1\n",
       "PoorCare       \n",
       "0         23  4\n",
       "1          6  7"
      ]
     },
     "execution_count": 56,
     "metadata": {},
     "output_type": "execute_result"
    }
   ],
   "source": [
    "#confusion matrix\n",
    "pd.crosstab(y_test,pred)"
   ]
  },
  {
   "cell_type": "code",
   "execution_count": 57,
   "metadata": {},
   "outputs": [],
   "source": [
    "TP=7.0\n",
    "TN=23.0\n",
    "FP=4.0\n",
    "FN=6.0\n",
    "#error on the test data\n",
    "accuracy= float((TP+TN)/len(y_test))\n",
    "error=float((FP+FN)/len(y_test))\n",
    "#print (\"Accuracy is \")+ str(accuracy)\n",
    "#print (\"error is \")+ str(error)\n",
    "#print the coefficients\n",
    "#print \"the coefficients are \"+ str(log_reg.coef_)\n",
    "#print \"the intercept is \"+ str(log_reg.intercept_)\n",
    "#we have got 75% accuracy, better than the baseline model\n",
    "#similarly you can also calulate Sensitivity, Specificity and Precision"
   ]
  },
  {
   "cell_type": "code",
   "execution_count": 58,
   "metadata": {},
   "outputs": [],
   "source": [
    "#Also comparing the accuracy of Train 86% and test 75% , it looks like we have silghtly overfit..\n",
    "# we can try to exclude some variables to get a better fit and reduce complexity of the model"
   ]
  },
  {
   "cell_type": "code",
   "execution_count": 59,
   "metadata": {},
   "outputs": [],
   "source": [
    "#so fro above we get the equation of the Logistic regression\n",
    "#\n",
    "#P(y=1)= 1/ 1+e^(-1.52 -0.0023*DaysSinceLastERVisit+0.132*Narcotics-... and so on.)\n",
    "#INTERPRETATION OF THE MODEL-----------------------------------------------------\n",
    "#This means that icreasing DaysSinceLastERVisit,Pain (negative coefficient) takes you towards P(y=0) or PoorCare(0). \n",
    "#This maskes sense as well\n",
    "#Similarly higher value of Narcotics & TotalVisits would means you are more likely to have \n",
    "#reveived Poor Care. This too makes sense( read the variable description at the begining)"
   ]
  },
  {
   "cell_type": "code",
   "execution_count": 60,
   "metadata": {},
   "outputs": [],
   "source": [
    "pred1=log_reg.predict_proba(X_test)# to get probabilities instead of classes"
   ]
  },
  {
   "cell_type": "markdown",
   "metadata": {},
   "source": [
    "# ROC CURVE"
   ]
  },
  {
   "cell_type": "code",
   "execution_count": 63,
   "metadata": {},
   "outputs": [
    {
     "name": "stderr",
     "output_type": "stream",
     "text": [
      "C:\\Users\\singh\\Anaconda3\\lib\\site-packages\\matplotlib\\cbook\\deprecation.py:107: MatplotlibDeprecationWarning: Adding an axes using the same arguments as a previous axes currently reuses the earlier instance.  In a future version, a new instance will always be created and returned.  Meanwhile, this warning can be suppressed, and the future behavior ensured, by passing a unique label to each axes instance.\n",
      "  warnings.warn(message, mplDeprecation, stacklevel=1)\n"
     ]
    },
    {
     "data": {
      "text/plain": [
       "(-0.05, 1.05)"
      ]
     },
     "execution_count": 63,
     "metadata": {},
     "output_type": "execute_result"
    },
    {
     "data": {
      "image/png": "[encoded data removed]",
      "text/plain": [
       "<Figure size 432x288 with 1 Axes>"
      ]
     },
     "metadata": {},
     "output_type": "display_data"
    }
   ],
   "source": [
    "#lets us look at ROC curve\n",
    "#dont worry about the codes fro ROC curve.. You dont have to remember it.. Just know its application\n",
    "#to read more about ROC curve refer---->\n",
    "# http://blog.yhat.com/posts/roc-curves.html or http://www.dataschool.io/roc-curves-and-auc-explained/\n",
    "fpr, tpr, threshold= metrics.roc_curve(y_test, pred1[:,1]) #pass the actual test DV and \n",
    "#predicted probability (only P(y)=1)\n",
    "#**********DRAW ROC CURVE**************\n",
    "plt.plot(fpr, tpr, label='ROC curve', color='b')\n",
    "plt.axes().set_aspect('equal')\n",
    "plt.xlim([-0.05, 1.05])\n",
    "plt.ylim([-0.05, 1.05])"
   ]
  },
  {
   "cell_type": "code",
   "execution_count": 66,
   "metadata": {},
   "outputs": [],
   "source": [
    "AUC= metrics.auc(fpr,tpr) # to get the area under the Curve\n",
    "#print AUC #78% which is good. this means model is covering 78% of the datapoints well. Best value is 1\n",
    "#worst is 0"
   ]
  },
  {
   "cell_type": "code",
   "execution_count": 67,
   "metadata": {},
   "outputs": [],
   "source": [
    "from sklearn import metrics"
   ]
  },
  {
   "cell_type": "code",
   "execution_count": 29,
   "metadata": {},
   "outputs": [
    {
     "data": {
      "text/html": [
       "<div>\n",
       "<style scoped>\n",
       "    .dataframe tbody tr th:only-of-type {\n",
       "        vertical-align: middle;\n",
       "    }\n",
       "\n",
       "    .dataframe tbody tr th {\n",
       "        vertical-align: top;\n",
       "    }\n",
       "\n",
       "    .dataframe thead th {\n",
       "        text-align: right;\n",
       "    }\n",
       "</style>\n",
       "<table border=\"1\" class=\"dataframe\">\n",
       "  <thead>\n",
       "    <tr style=\"text-align: right;\">\n",
       "      <th>col_0</th>\n",
       "      <th>0</th>\n",
       "      <th>1</th>\n",
       "    </tr>\n",
       "    <tr>\n",
       "      <th>PoorCare</th>\n",
       "      <th></th>\n",
       "      <th></th>\n",
       "    </tr>\n",
       "  </thead>\n",
       "  <tbody>\n",
       "    <tr>\n",
       "      <th>0</th>\n",
       "      <td>23</td>\n",
       "      <td>4</td>\n",
       "    </tr>\n",
       "    <tr>\n",
       "      <th>1</th>\n",
       "      <td>5</td>\n",
       "      <td>8</td>\n",
       "    </tr>\n",
       "  </tbody>\n",
       "</table>\n",
       "</div>"
      ],
      "text/plain": [
       "col_0      0  1\n",
       "PoorCare       \n",
       "0         23  4\n",
       "1          5  8"
      ]
     },
     "execution_count": 29,
     "metadata": {},
     "output_type": "execute_result"
    }
   ],
   "source": [
    "#CONVERT THE PROBABILITITS TO 1'S AND 0'S APPLYING OUT OWN THRESHOLD\n",
    "#HERE 0.40\n",
    "x=[]\n",
    "for i in range(len(pred1[:,1])):\n",
    "    if (pred1[:,1][i]>=0.4):\n",
    "        x.append(1)\n",
    "    else:\n",
    "        x.append(0)\n",
    "x=np.array(x)\n",
    "pd.crosstab(y_test,x)"
   ]
  },
  {
   "cell_type": "code",
   "execution_count": null,
   "metadata": {},
   "outputs": [],
   "source": [
    "#output 2\n",
    "TP=8.0\n",
    "TN=23.0\n",
    "FP=4.0\n",
    "FN=5.0\n",
    "#error on the test data\n",
    "accuracy= float((TP+TN)/len(y_test))\n",
    "error=float((FP+FN)/len(y_test))\n",
    "print accuracy\n",
    "print error\n",
    "#slightly better than before\n",
    "#similarly you can also calulate Sensitivity, Specificity and Precision"
   ]
  },
  {
   "cell_type": "code",
   "execution_count": null,
   "metadata": {},
   "outputs": [],
   "source": [
    "#lets see the P values to verify if we have used all Good variables"
   ]
  },
  {
   "cell_type": "code",
   "execution_count": 37,
   "metadata": {},
   "outputs": [],
   "source": [
    "import statsmodels.discrete.discrete_model as sm\n",
    "from statsmodels.api import add_constant\n",
    "X2 = add_constant(X_train)"
   ]
  },
  {
   "cell_type": "code",
   "execution_count": 38,
   "metadata": {},
   "outputs": [],
   "source": [
    "logit = sm.Logit(y_train, X2)"
   ]
  },
  {
   "cell_type": "code",
   "execution_count": 68,
   "metadata": {},
   "outputs": [
    {
     "name": "stdout",
     "output_type": "stream",
     "text": [
      "Optimization terminated successfully.\n",
      "         Current function value: 0.391254\n",
      "         Iterations 6\n",
      "                           Logit Regression Results                           \n",
      "==============================================================================\n",
      "Dep. Variable:               PoorCare   No. Observations:                   91\n",
      "Model:                          Logit   Df Residuals:                       87\n",
      "Method:                           MLE   Df Model:                            3\n",
      "Date:                Sat, 29 Dec 2018   Pseudo R-squ.:                  0.2571\n",
      "Time:                        14:13:49   Log-Likelihood:                -35.604\n",
      "converged:                       True   LL-Null:                       -47.923\n",
      "                                        LLR p-value:                 1.838e-05\n",
      "========================================================================================\n",
      "                           coef    std err          z      P>|z|      [0.025      0.975]\n",
      "----------------------------------------------------------------------------------------\n",
      "const                   -1.2078      0.531     -2.273      0.023      -2.249      -0.166\n",
      "DaysSinceLastERVisit    -0.0019      0.001     -1.729      0.084      -0.004       0.000\n",
      "Narcotics                0.1268      0.042      3.020      0.003       0.045       0.209\n",
      "True                     2.3536      1.343      1.752      0.080      -0.279       4.986\n",
      "========================================================================================\n"
     ]
    }
   ],
   "source": [
    "result = logit.fit()\n",
    "print (result.summary())"
   ]
  },
  {
   "cell_type": "code",
   "execution_count": 12,
   "metadata": {},
   "outputs": [],
   "source": [
    "# we see from abve that Pain and Total Visits are not imprtant pain 14% and Total Visits 9.6%\n",
    "#let lets exclude them and recheck the model"
   ]
  },
  {
   "cell_type": "code",
   "execution_count": 33,
   "metadata": {},
   "outputs": [],
   "source": [
    "from sklearn.cross_validation import train_test_split\n",
    "X_train, X_test, y_train, y_test = train_test_split(df_final[[\"DaysSinceLastERVisit\",\"Narcotics\",True]],df_final['PoorCare'],test_size=0.3,random_state=1)"
   ]
  },
  {
   "cell_type": "code",
   "execution_count": 34,
   "metadata": {},
   "outputs": [
    {
     "data": {
      "text/plain": [
       "LogisticRegression(C=1000000000.0, class_weight=None, dual=False,\n",
       "          fit_intercept=True, intercept_scaling=1, max_iter=100,\n",
       "          multi_class='ovr', n_jobs=1, penalty='l2', random_state=None,\n",
       "          solver='liblinear', tol=0.0001, verbose=0, warm_start=False)"
      ]
     },
     "execution_count": 34,
     "metadata": {},
     "output_type": "execute_result"
    }
   ],
   "source": [
    "log_reg=LogisticRegression(C = 1e9)\n",
    "log_reg.fit(X_train,y_train)"
   ]
  },
  {
   "cell_type": "code",
   "execution_count": 35,
   "metadata": {},
   "outputs": [
    {
     "data": {
      "text/html": [
       "<div>\n",
       "<style scoped>\n",
       "    .dataframe tbody tr th:only-of-type {\n",
       "        vertical-align: middle;\n",
       "    }\n",
       "\n",
       "    .dataframe tbody tr th {\n",
       "        vertical-align: top;\n",
       "    }\n",
       "\n",
       "    .dataframe thead th {\n",
       "        text-align: right;\n",
       "    }\n",
       "</style>\n",
       "<table border=\"1\" class=\"dataframe\">\n",
       "  <thead>\n",
       "    <tr style=\"text-align: right;\">\n",
       "      <th>col_0</th>\n",
       "      <th>0</th>\n",
       "      <th>1</th>\n",
       "    </tr>\n",
       "    <tr>\n",
       "      <th>PoorCare</th>\n",
       "      <th></th>\n",
       "      <th></th>\n",
       "    </tr>\n",
       "  </thead>\n",
       "  <tbody>\n",
       "    <tr>\n",
       "      <th>0</th>\n",
       "      <td>70</td>\n",
       "      <td>1</td>\n",
       "    </tr>\n",
       "    <tr>\n",
       "      <th>1</th>\n",
       "      <td>11</td>\n",
       "      <td>9</td>\n",
       "    </tr>\n",
       "  </tbody>\n",
       "</table>\n",
       "</div>"
      ],
      "text/plain": [
       "col_0      0  1\n",
       "PoorCare       \n",
       "0         70  1\n",
       "1         11  9"
      ]
     },
     "execution_count": 35,
     "metadata": {},
     "output_type": "execute_result"
    }
   ],
   "source": [
    "#predict on train data\n",
    "pred_train=log_reg.predict(X_train)\n",
    "pd.crosstab(y_train,pred_train)\n",
    "#accuracy=(70+9)/(70+9+11+1)\n",
    "#accuracy=86% on training data\n",
    "#similarly you can also calulate Sensitivity, Specificity and Precision"
   ]
  },
  {
   "cell_type": "code",
   "execution_count": 36,
   "metadata": {},
   "outputs": [
    {
     "ename": "SyntaxError",
     "evalue": "invalid syntax (<ipython-input-36-4fa02d5239cb>, line 7)",
     "output_type": "error",
     "traceback": [
      "\u001b[1;36m  File \u001b[1;32m\"<ipython-input-36-4fa02d5239cb>\"\u001b[1;36m, line \u001b[1;32m7\u001b[0m\n\u001b[1;33m    print \"accuracy is \"+ str(32.0/40) #80% better than previous result and very close to train data accuracy (86%).\u001b[0m\n\u001b[1;37m                       ^\u001b[0m\n\u001b[1;31mSyntaxError\u001b[0m\u001b[1;31m:\u001b[0m invalid syntax\n"
     ]
    }
   ],
   "source": [
    "#predict on test\n",
    "pred=log_reg.predict(X_test)#to get the output as 1's and 0's\n",
    "#by assuming t=0.5\n",
    "#confusion matrix\n",
    "pd.crosstab(y_test,pred)\n",
    "#test data accuracy= 27+5=32\n",
    "print \"accuracy is \"+ str(32.0/40) #80% better than previous result and very close to train data accuracy (86%).\n",
    "#this is random variation.\n",
    "#hence overfitting has been removed. "
   ]
  },
  {
   "cell_type": "code",
   "execution_count": null,
   "metadata": {},
   "outputs": [],
   "source": [
    "#so final model will have only DaysSinceLastERVisit\",\"Narcotics\" & \n",
    "#StartedOnCombination(dummy of this) as the INDEPENDENT VARIABLES"
   ]
  },
  {
   "cell_type": "code",
   "execution_count": 94,
   "metadata": {
    "collapsed": true
   },
   "outputs": [],
   "source": [
    "#HOPE THIS CASE STUDY HELPED YOU. THIS IS HOW TO PROCEED WITH ANY DATA.. ONE STEP AT A TIME.\n",
    "# NURTURING YOUR DATA SCIECNE JOURNEY AND HONING YOUR SKILLS.\n",
    "# MAIL AT mydatacafe@mydatacafe.com FOR MORE SUCH CASE STUDIES\n",
    "# You can whatsapp us at +91 8722 832755"
   ]
  }
 ],
 "metadata": {
  "anaconda-cloud": {},
  "kernelspec": {
   "display_name": "Python 3",
   "language": "python",
   "name": "python3"
  },
  "language_info": {
   "codemirror_mode": {
    "name": "ipython",
    "version": 3
   },
   "file_extension": ".py",
   "mimetype": "text/x-python",
   "name": "python",
   "nbconvert_exporter": "python",
   "pygments_lexer": "ipython3",
   "version": "3.6.5"
  }
 },
 "nbformat": 4,
 "nbformat_minor": 1
}
